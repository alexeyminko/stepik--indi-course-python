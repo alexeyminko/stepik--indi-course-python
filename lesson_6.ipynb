{
 "cells": [
  {
   "cell_type": "markdown",
   "id": "491f25c8",
   "metadata": {},
   "source": [
    "# 6.1"
   ]
  },
  {
   "cell_type": "code",
   "execution_count": 12,
   "id": "b0ca8ba5",
   "metadata": {},
   "outputs": [
    {
     "name": "stdout",
     "output_type": "stream",
     "text": [
      "20\n",
      "{1: 1, 2: 4, 3: 9, 4: 16, 5: 25, 6: 36, 7: 49, 8: 64, 9: 81, 10: 100, 11: 121, 12: 144, 13: 169, 14: 196, 15: 225, 16: 256, 17: 289, 18: 324, 19: 361, 20: 400}\n"
     ]
    }
   ],
   "source": [
    "#\n",
    "\n",
    "n = int(input())\n",
    "res = {i: i**2 for i in range(1, n + 1)}\n",
    "print(res)"
   ]
  },
  {
   "cell_type": "code",
   "execution_count": 16,
   "id": "0571af8e",
   "metadata": {},
   "outputs": [
    {
     "name": "stdout",
     "output_type": "stream",
     "text": [
      "a 1\n",
      "b 2\n",
      "c 3\n",
      "d 4\n",
      "e 5\n",
      "f 6\n",
      "g 7\n",
      "h 8\n",
      "i 9\n",
      "j 10\n",
      "k 11\n",
      "l 12\n",
      "m 13\n",
      "n 14\n",
      "o 15\n",
      "p 16\n",
      "q 17\n",
      "r 18\n",
      "s 19\n",
      "t 20\n",
      "u 21\n",
      "v 22\n",
      "w 23\n",
      "x 24\n",
      "y 25\n",
      "z 26\n"
     ]
    }
   ],
   "source": [
    "#\n",
    "\n",
    "from string import ascii_lowercase\n",
    "alphabet = {ascii_lowercase[i - 1]: i for i in range(1, 27)}\n",
    "for key, value in alphabetres.items():\n",
    "    print(key, value)"
   ]
  },
  {
   "cell_type": "code",
   "execution_count": 21,
   "id": "e30fe70d",
   "metadata": {},
   "outputs": [
    {
     "name": "stdout",
     "output_type": "stream",
     "text": [
      "{'a': 100, 'b': 200, 'c': 333, 'x': 300, 'y': 200, 'z': 777}\n"
     ]
    }
   ],
   "source": [
    "#\n",
    "\n",
    "d1 = {'a': 100, 'b': 200, 'c': 333}\n",
    "d2 = {'x': 300, 'y': 200, 'z': 777}\n",
    "rez = d1 | d2\n",
    "print(rez)"
   ]
  },
  {
   "cell_type": "code",
   "execution_count": 23,
   "id": "7360732a",
   "metadata": {},
   "outputs": [
    {
     "name": "stdout",
     "output_type": "stream",
     "text": [
      "4\n",
      "abc\n",
      "OK\n",
      "abcd\n",
      "OK\n",
      "abc\n",
      "abc1\n",
      "abc\n",
      "abc2\n"
     ]
    }
   ],
   "source": [
    "# Система регистрации\n",
    "\n",
    "res = {}\n",
    "n = int(input())\n",
    "for i in range(n):\n",
    "    name = input()\n",
    "    if res.get(name) == None:\n",
    "        print('OK')\n",
    "        res[name] = 0\n",
    "    else:\n",
    "        new_key = name + str(res[name] + 1)\n",
    "        print(new_key)\n",
    "        res[new_key] = 0\n",
    "        res[name] += 1\n",
    "        "
   ]
  },
  {
   "cell_type": "code",
   "execution_count": 36,
   "id": "d69fa2e6",
   "metadata": {},
   "outputs": [
    {
     "name": "stdout",
     "output_type": "stream",
     "text": [
      "Birmingham\n",
      "INFO: Birmingham is a city in England\n"
     ]
    }
   ],
   "source": [
    "#\n",
    "\n",
    "countries = {\n",
    "    \"Sweden\": [\"Stockholm\", \"Göteborg\", \"Malmö\"],\n",
    "    \"Norway\": [\"Oslo\", \"Bergen\", \"Trondheim\"],\n",
    "    \"England\": [\"London\", \"Birmingham\", \"Manchester\"],\n",
    "    \"Germany\": [\"Berlin\", \"Hamburg\", \"Munich\"],\n",
    "    \"France\": [\"Paris\", \"Marseille\", \"Toulouse\"]\n",
    "}\n",
    "\n",
    "city = input()\n",
    "found = False\n",
    "for key in countries:\n",
    "    if city in countries[key]:\n",
    "        found = True\n",
    "        print(f'INFO: {city} is a city in {key}')\n",
    "if found == False:\n",
    "    print(f'ERROR: Country for {city} not found')"
   ]
  },
  {
   "cell_type": "markdown",
   "id": "eb26dd2f",
   "metadata": {},
   "source": [
    "# 6.2"
   ]
  },
  {
   "cell_type": "code",
   "execution_count": 7,
   "id": "87e90ec0",
   "metadata": {},
   "outputs": [
    {
     "name": "stdout",
     "output_type": "stream",
     "text": [
      "ZZzzzZ34 WWw777\n",
      "{'z': 6, 'w': 3}\n"
     ]
    }
   ],
   "source": [
    "# \n",
    "\n",
    "string = input().lower().replace(' ', '')\n",
    "res = {}\n",
    "for s in string:\n",
    "    if s.isalpha():\n",
    "        res[s] = res.get(s, 0) + 1\n",
    "print(res)"
   ]
  },
  {
   "cell_type": "code",
   "execution_count": 11,
   "id": "6bf26e53",
   "metadata": {},
   "outputs": [],
   "source": [
    "data = {'my_friends': {'count': 10, 'items': [{'first_name': 'Kurt', 'id': 621547005, 'last_name': 'Cobain', 'bdate': '31.8.2005'}, {'first_name': 'Виолетта', 'id': 484200150, 'last_name': 'Кастилио'}, {'first_name': 'Иринка', 'id': 21886133, 'last_name': 'Бушуева', 'bdate': '28.8.1942'}, {'first_name': 'Данил', 'id': 282456573, 'last_name': 'Греков', 'bdate': '4.7.2002'}, {'first_name': 'Валентин', 'id': 184902932, 'last_name': 'Долматов', 'bdate': '25.5'}, {'first_name': 'Евгений', 'id': 620469646, 'last_name': 'Шапорин', 'bdate': '6.12.1982'}, {'first_name': 'Ангелина', 'id': 622328862, 'last_name': 'Краснова', 'bdate': '4.11.1995'}, {'first_name': 'Иван', 'id': 576015198, 'last_name': 'Вирин', 'bdate': '2.2.1915'}, {'first_name': 'Паша', 'id': 386922406, 'last_name': 'Воронов', 'bdate': '27.9'}, {'first_name': 'Ольга', 'id': 622170942, 'last_name': 'Савченкова', 'bdate': '20.12'}]}}\n"
   ]
  },
  {
   "cell_type": "code",
   "execution_count": 13,
   "id": "00a4a595",
   "metadata": {},
   "outputs": [
    {
     "name": "stdout",
     "output_type": "stream",
     "text": [
      "Kurt\n",
      "Ангелина\n",
      "Валентин\n",
      "Виолетта\n",
      "Данил\n",
      "Евгений\n",
      "Иван\n",
      "Иринка\n",
      "Ольга\n",
      "Паша\n"
     ]
    }
   ],
   "source": [
    "#\n",
    "\n",
    "res = []\n",
    "for i in range(data['my_friends']['count']):\n",
    "    name = data['my_friends']['items'][i]['first_name']\n",
    "    res.append(name)\n",
    "for elem in sorted(res):\n",
    "    print(elem)    "
   ]
  },
  {
   "cell_type": "code",
   "execution_count": 16,
   "id": "9be898ad",
   "metadata": {},
   "outputs": [
    {
     "name": "stdout",
     "output_type": "stream",
     "text": [
      "abb\n",
      "bbc\n",
      "NO\n"
     ]
    }
   ],
   "source": [
    "# Анаграмма\n",
    "\n",
    "string_1, string_2 = input(), input()\n",
    "res_1 = {}\n",
    "res_2 = {}\n",
    "for s in string_1:\n",
    "    res_1[s] = res_1.get(s, 0) + 1\n",
    "for s in string_2:\n",
    "    res_2[s] = res_2.get(s, 0) + 1\n",
    "print('YES' if res_1 == res_2 else 'NO')"
   ]
  },
  {
   "cell_type": "code",
   "execution_count": 18,
   "id": "30eae8c0",
   "metadata": {},
   "outputs": [
    {
     "name": "stdout",
     "output_type": "stream",
     "text": [
      "Houston we have a problem\n",
      ".... --- ..- ... - --- -. \n",
      ".-- . \n",
      ".... .- ...- . \n",
      ".- \n",
      ".--. .-. --- -... .-.. . -- "
     ]
    }
   ],
   "source": [
    "# Азбука Морзе\n",
    "\n",
    "morze = {'a': '.-', 'b': '-...', 'c': '-.-.', 'd': '-..',\n",
    "         'e': '.', 'f': '..-.', 'g': '--.', 'h': '....',\n",
    "         'i': '..', 'j': '.---', 'k': '-.-', 'l': '.-..',\n",
    "         'm': '--', 'n': '-.', 'o': '---', 'p': '.--.',\n",
    "         'q': '--.-', 'r': '.-.', 's': '...', 't': '-',\n",
    "         'u': '..-', 'v': '...-', 'w': '.--', 'x': '-..-',\n",
    "         'y': '-.--', 'z': '--..'}\n",
    "string = input().lower()\n",
    "for s in string:\n",
    "    if s == ' ':\n",
    "        print()\n",
    "    else:\n",
    "        print(morze[s], end=' ')    "
   ]
  },
  {
   "cell_type": "markdown",
   "id": "c4800415",
   "metadata": {},
   "source": [
    "# 6.3"
   ]
  },
  {
   "cell_type": "code",
   "execution_count": 21,
   "id": "f67ae5ba",
   "metadata": {},
   "outputs": [
    {
     "data": {
      "text/plain": [
       "{'694.322.8133x22426': 'Amy Smith',\n",
       " '593.662.5217x338': 'Brian Shaw',\n",
       " '118.197.8810': 'Christian Sharp',\n",
       " '9722527521': 'Sean Schmidt',\n",
       " '163.814.9938': 'Thomas Long',\n",
       " '+1-978-530-6971x601': 'Joshua Willis',\n",
       " '434.104.4302': 'Ann Hoffman',\n",
       " '(956)182-8435': 'John Leonard',\n",
       " '870-365-8303x416': 'Daniel Ross',\n",
       " '+1-757-865-4488x652': 'Jacqueline Moon',\n",
       " '705-576-1122': 'Gregory Baker',\n",
       " '(922)816-0599x7007': 'Michael Spencer',\n",
       " '399-813-8599': 'Austin Vazquez',\n",
       " '979.908.8506x886': 'Chad Delgado',\n",
       " '9577853541': 'Jonathan Gilbert'}"
      ]
     },
     "execution_count": 21,
     "metadata": {},
     "output_type": "execute_result"
    }
   ],
   "source": [
    "#\n",
    "\n",
    "people = [\n",
    "    ['Amy Smith', '694.322.8133x22426'],\n",
    "    ['Brian Shaw', '593.662.5217x338'],\n",
    "    ['Christian Sharp', '118.197.8810'],\n",
    "    ['Sean Schmidt', '9722527521'],\n",
    "    ['Thomas Long', '163.814.9938'],\n",
    "    ['Joshua Willis', '+1-978-530-6971x601'],\n",
    "    ['Ann Hoffman', '434.104.4302'],\n",
    "    ['John Leonard', '(956)182-8435'],\n",
    "    ['Daniel Ross', '870-365-8303x416'],\n",
    "    ['Jacqueline Moon', '+1-757-865-4488x652'],\n",
    "    ['Gregory Baker', '705-576-1122'],\n",
    "    ['Michael Spencer', '(922)816-0599x7007'],\n",
    "    ['Austin Vazquez', '399-813-8599'],\n",
    "    ['Chad Delgado', '979.908.8506x886'],\n",
    "    ['Jonathan Gilbert', '9577853541']\n",
    "]\n",
    "phone_book = {user[1]: user[0] for user in people}\n",
    "phone_book"
   ]
  },
  {
   "cell_type": "markdown",
   "id": "ca9b336e",
   "metadata": {},
   "source": [
    "# 6.4"
   ]
  },
  {
   "cell_type": "code",
   "execution_count": 22,
   "id": "dec9a06a",
   "metadata": {},
   "outputs": [
    {
     "name": "stdout",
     "output_type": "stream",
     "text": [
      "-986 993\n"
     ]
    }
   ],
   "source": [
    "#\n",
    "\n",
    "my_tuple = (-214, 181, -139, 448, -664, -66, 213, 832, 717, -462, -924, -706, -85, -244, -222, -340, -482, -518, -781, 759, -593, 905, -354, -377, -141, -742, 383, -381, 109, -639, -480, -810, -686, 892, -612, 696, 993, 791, 631, -493, -218, -829, -275, 619, -628, -241, -565, -835, -69, 747, 711, -252, -811, -407, -153, 904, 933, -254, 307, -493, -419, -109, -543, 155, -127, 613, -452, -459, 856, 562, 333, -66, -77, -598, -779, -278, 867, 321, -20, -415, -357, 735, -906, -14, -370, 453, -630, -736, -830, -917, 32, 422, -895, 198, 284, 472, -986, -964, -73, 29)\n",
    "print(min(my_tuple), max(my_tuple))"
   ]
  },
  {
   "cell_type": "code",
   "execution_count": 23,
   "id": "314906fc",
   "metadata": {},
   "outputs": [
    {
     "name": "stdout",
     "output_type": "stream",
     "text": [
      "-18.0\n"
     ]
    }
   ],
   "source": [
    "#\n",
    "\n",
    "my_tuple = (-214, 181, -139, 448, -664, -66, 213, 832, 717, -462, -924, -706, -85, -244, -222, -340, -482, -518, -781, 759, -593, 905, -354, -377, -141, -742, 383, -381, 109, -639, -480, -810, -686, 892, -612, 696, 993, 791, 631, -493, -218, -829, -275, 619, -628, -241, -565, -835, -69, 747, 711, -252, -811, -407, -153, 904, 933, -254, 307, -493, -419, -109, -543, 155, -127, 613, -452, -459, 856, 562, 333, -66, -77, -598, -779, -278, 867, 321, -20, -415, -357, 735, -906, -14, -370, 453, -630, -736, -830, -917, 32, 422, -895, 198, 284, 472, -986, -964, -73, 29)\n",
    "total = count = 0\n",
    "for elem in my_tuple:\n",
    "    if elem % 2 != 0:\n",
    "        total += elem\n",
    "        count += 1\n",
    "print(total / count)  "
   ]
  },
  {
   "cell_type": "code",
   "execution_count": 25,
   "id": "8b74b28c",
   "metadata": {},
   "outputs": [
    {
     "name": "stdout",
     "output_type": "stream",
     "text": [
      "8\n",
      "11\n",
      "(8, 9, 10, 11)\n"
     ]
    }
   ],
   "source": [
    "#\n",
    "\n",
    "a, b = int(input()), int(input())\n",
    "res_tuple = tuple(i for i in range(a, b + 1))\n",
    "print(res_tuple)"
   ]
  },
  {
   "cell_type": "code",
   "execution_count": 33,
   "id": "3b242b0b",
   "metadata": {},
   "outputs": [
    {
     "name": "stdout",
     "output_type": "stream",
     "text": [
      "5\n",
      "(5, 7, 9, 11, 13, 15, 17, 19, 21, 23, 25)\n"
     ]
    }
   ],
   "source": [
    "#\n",
    "\n",
    "n = int(input())\n",
    "res_tuple = tuple(i for i in range(n, n**2 + 1) if i % 2 != 0)\n",
    "print(res_tuple)"
   ]
  },
  {
   "cell_type": "markdown",
   "id": "f3fe1199",
   "metadata": {},
   "source": [
    "# 6.5"
   ]
  },
  {
   "cell_type": "code",
   "execution_count": 38,
   "id": "d209cbf1",
   "metadata": {},
   "outputs": [
    {
     "name": "stdout",
     "output_type": "stream",
     "text": [
      "1 2 3 4 5\n",
      "3 4 5 6 7\n",
      "3 4 5\n"
     ]
    }
   ],
   "source": [
    "#\n",
    "\n",
    "a, b = set(map(int, input().split())), set(map(int, input().split()))\n",
    "print(*sorted(a & b))"
   ]
  },
  {
   "cell_type": "code",
   "execution_count": 39,
   "id": "bf0a5e49",
   "metadata": {},
   "outputs": [
    {
     "name": "stdout",
     "output_type": "stream",
     "text": [
      "1 3 2 5\n",
      "4 3 2 6\n",
      "1 5\n"
     ]
    }
   ],
   "source": [
    "#\n",
    "\n",
    "a, b = set(map(int, input().split())), set(map(int, input().split()))\n",
    "print(*sorted(a - b))"
   ]
  },
  {
   "cell_type": "code",
   "execution_count": 45,
   "id": "49a1f895",
   "metadata": {},
   "outputs": [
    {
     "name": "stdout",
     "output_type": "stream",
     "text": [
      "qwerty123\n",
      "NO\n"
     ]
    }
   ],
   "source": [
    "#\n",
    "\n",
    "string = input()\n",
    "res = {s for s in string if s.isdigit() and string.count(s) > 1}\n",
    "print(*sorted(res) if len(res) > 0 else ['NO'])"
   ]
  },
  {
   "cell_type": "code",
   "execution_count": 58,
   "id": "c2fa7882",
   "metadata": {},
   "outputs": [
    {
     "name": "stdout",
     "output_type": "stream",
     "text": [
      "abc312re542Ab\n",
      "abc312re54A\n"
     ]
    }
   ],
   "source": [
    "#\n",
    "\n",
    "string = list(input())\n",
    "b = []\n",
    "res = set()\n",
    "for s in string:\n",
    "    if s not in res:\n",
    "        res.add(s)\n",
    "        b.append(s)\n",
    "print(''.join(b))"
   ]
  },
  {
   "cell_type": "code",
   "execution_count": 61,
   "id": "f43a1543",
   "metadata": {},
   "outputs": [
    {
     "name": "stdout",
     "output_type": "stream",
     "text": [
      "Дили: navalny\n",
      "Дили: realdonaldtrump\n",
      "Били: navalny\n",
      "Вили: realdonaldtrump\n",
      "Вили: realdonaldtrump\n",
      "Били: joebiden\n",
      "Дили: joebiden\n",
      "конец\n",
      "Количество уникальных комментаторов у Били - 2\n",
      "Количество уникальных комментаторов у Вили - 1\n",
      "Количество уникальных комментаторов у Дили - 0\n"
     ]
    }
   ],
   "source": [
    "#\n",
    "\n",
    "string = input()\n",
    "d = set()\n",
    "b = set()\n",
    "v = set()\n",
    "while string != 'конец':\n",
    "    text = string.split(': ')\n",
    "    if text[0] == 'Дили':\n",
    "        d.add(text[1])\n",
    "    elif text[0] == 'Били':\n",
    "        b.add(text[1])\n",
    "    else:\n",
    "        v.add(text[1])\n",
    "    string = input()\n",
    "res = {len(v): 'Вили', len(d): 'Дили', len(b): 'Били'}\n",
    "for key in sorted(res, reverse=True):\n",
    "    print(f'Количество уникальных комментаторов у {res[key]} - {key}')"
   ]
  },
  {
   "cell_type": "code",
   "execution_count": 3,
   "id": "b57d239f",
   "metadata": {},
   "outputs": [
    {
     "name": "stdout",
     "output_type": "stream",
     "text": [
      "sevenkplus\n",
      "CHAT WITH HER!\n"
     ]
    }
   ],
   "source": [
    "# Девушка или Юноша\n",
    "\n",
    "nickname = set(input())\n",
    "print('IGNORE HIM!' if len(nickname) % 2 == 1 else 'CHAT WITH HER!')"
   ]
  },
  {
   "cell_type": "code",
   "execution_count": 5,
   "id": "9357ac49",
   "metadata": {},
   "outputs": [
    {
     "name": "stdout",
     "output_type": "stream",
     "text": [
      "7 7 7 7\n",
      "3\n"
     ]
    }
   ],
   "source": [
    "# Не смешите мои подковы\n",
    "\n",
    "horseshoes = set(input().split())\n",
    "lenght = len(horseshoes)\n",
    "print(4 - lenght)"
   ]
  },
  {
   "cell_type": "code",
   "execution_count": 8,
   "id": "1c9428af",
   "metadata": {},
   "outputs": [
    {
     "name": "stdout",
     "output_type": "stream",
     "text": [
      "1987\n",
      "2013\n"
     ]
    }
   ],
   "source": [
    "# Красивый год\n",
    "\n",
    "year = input()\n",
    "i = int(year)\n",
    "while True:\n",
    "    i += 1\n",
    "    res = set(str(i))\n",
    "    if len(res) == 4:\n",
    "        print(i)\n",
    "        break"
   ]
  },
  {
   "cell_type": "code",
   "execution_count": 14,
   "id": "2ce9b93c",
   "metadata": {},
   "outputs": [
    {
     "name": "stdout",
     "output_type": "stream",
     "text": [
      "{}\n",
      "0\n"
     ]
    }
   ],
   "source": [
    "# Антон и буквы\n",
    "\n",
    "res = input()[1: -1]\n",
    "if len(res) == 0:\n",
    "    print(0)\n",
    "else:\n",
    "    res_set = set(res.split(', '))\n",
    "    print(len(res_set))"
   ]
  },
  {
   "cell_type": "code",
   "execution_count": 16,
   "id": "7e0fcdcc",
   "metadata": {},
   "outputs": [
    {
     "name": "stdout",
     "output_type": "stream",
     "text": [
      "35\n",
      "TheQuickBrownFoxJumpsOverTheLazyDog\n",
      "YES\n"
     ]
    }
   ],
   "source": [
    "# Панграмма\n",
    "\n",
    "n, string = input(), set(input().lower())\n",
    "print('YES' if len(string) == 26 else 'NO')"
   ]
  }
 ],
 "metadata": {
  "kernelspec": {
   "display_name": "Python 3 (ipykernel)",
   "language": "python",
   "name": "python3"
  },
  "language_info": {
   "codemirror_mode": {
    "name": "ipython",
    "version": 3
   },
   "file_extension": ".py",
   "mimetype": "text/x-python",
   "name": "python",
   "nbconvert_exporter": "python",
   "pygments_lexer": "ipython3",
   "version": "3.9.7"
  }
 },
 "nbformat": 4,
 "nbformat_minor": 5
}
