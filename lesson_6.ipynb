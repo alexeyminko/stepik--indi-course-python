{
 "cells": [
  {
   "cell_type": "markdown",
   "id": "491f25c8",
   "metadata": {},
   "source": [
    "# 6.1"
   ]
  },
  {
   "cell_type": "code",
   "execution_count": 12,
   "id": "b0ca8ba5",
   "metadata": {},
   "outputs": [
    {
     "name": "stdout",
     "output_type": "stream",
     "text": [
      "20\n",
      "{1: 1, 2: 4, 3: 9, 4: 16, 5: 25, 6: 36, 7: 49, 8: 64, 9: 81, 10: 100, 11: 121, 12: 144, 13: 169, 14: 196, 15: 225, 16: 256, 17: 289, 18: 324, 19: 361, 20: 400}\n"
     ]
    }
   ],
   "source": [
    "#\n",
    "\n",
    "n = int(input())\n",
    "res = {i: i**2 for i in range(1, n + 1)}\n",
    "print(res)"
   ]
  },
  {
   "cell_type": "code",
   "execution_count": 16,
   "id": "0571af8e",
   "metadata": {},
   "outputs": [
    {
     "name": "stdout",
     "output_type": "stream",
     "text": [
      "a 1\n",
      "b 2\n",
      "c 3\n",
      "d 4\n",
      "e 5\n",
      "f 6\n",
      "g 7\n",
      "h 8\n",
      "i 9\n",
      "j 10\n",
      "k 11\n",
      "l 12\n",
      "m 13\n",
      "n 14\n",
      "o 15\n",
      "p 16\n",
      "q 17\n",
      "r 18\n",
      "s 19\n",
      "t 20\n",
      "u 21\n",
      "v 22\n",
      "w 23\n",
      "x 24\n",
      "y 25\n",
      "z 26\n"
     ]
    }
   ],
   "source": [
    "#\n",
    "\n",
    "from string import ascii_lowercase\n",
    "alphabet = {ascii_lowercase[i - 1]: i for i in range(1, 27)}\n",
    "for key, value in alphabetres.items():\n",
    "    print(key, value)"
   ]
  },
  {
   "cell_type": "code",
   "execution_count": 21,
   "id": "e30fe70d",
   "metadata": {},
   "outputs": [
    {
     "name": "stdout",
     "output_type": "stream",
     "text": [
      "{'a': 100, 'b': 200, 'c': 333, 'x': 300, 'y': 200, 'z': 777}\n"
     ]
    }
   ],
   "source": [
    "#\n",
    "\n",
    "d1 = {'a': 100, 'b': 200, 'c': 333}\n",
    "d2 = {'x': 300, 'y': 200, 'z': 777}\n",
    "rez = d1 | d2\n",
    "print(rez)"
   ]
  },
  {
   "cell_type": "code",
   "execution_count": 23,
   "id": "7360732a",
   "metadata": {},
   "outputs": [
    {
     "name": "stdout",
     "output_type": "stream",
     "text": [
      "4\n",
      "abc\n",
      "OK\n",
      "abcd\n",
      "OK\n",
      "abc\n",
      "abc1\n",
      "abc\n",
      "abc2\n"
     ]
    }
   ],
   "source": [
    "# Система регистрации\n",
    "\n",
    "res = {}\n",
    "n = int(input())\n",
    "for i in range(n):\n",
    "    name = input()\n",
    "    if res.get(name) == None:\n",
    "        print('OK')\n",
    "        res[name] = 0\n",
    "    else:\n",
    "        new_key = name + str(res[name] + 1)\n",
    "        print(new_key)\n",
    "        res[new_key] = 0\n",
    "        res[name] += 1\n",
    "        "
   ]
  },
  {
   "cell_type": "code",
   "execution_count": 36,
   "id": "d69fa2e6",
   "metadata": {},
   "outputs": [
    {
     "name": "stdout",
     "output_type": "stream",
     "text": [
      "Birmingham\n",
      "INFO: Birmingham is a city in England\n"
     ]
    }
   ],
   "source": [
    "#\n",
    "\n",
    "countries = {\n",
    "    \"Sweden\": [\"Stockholm\", \"Göteborg\", \"Malmö\"],\n",
    "    \"Norway\": [\"Oslo\", \"Bergen\", \"Trondheim\"],\n",
    "    \"England\": [\"London\", \"Birmingham\", \"Manchester\"],\n",
    "    \"Germany\": [\"Berlin\", \"Hamburg\", \"Munich\"],\n",
    "    \"France\": [\"Paris\", \"Marseille\", \"Toulouse\"]\n",
    "}\n",
    "\n",
    "city = input()\n",
    "found = False\n",
    "for key in countries:\n",
    "    if city in countries[key]:\n",
    "        found = True\n",
    "        print(f'INFO: {city} is a city in {key}')\n",
    "if found == False:\n",
    "    print(f'ERROR: Country for {city} not found')"
   ]
  },
  {
   "cell_type": "markdown",
   "id": "eb26dd2f",
   "metadata": {},
   "source": [
    "# 6.2"
   ]
  },
  {
   "cell_type": "code",
   "execution_count": null,
   "id": "87e90ec0",
   "metadata": {},
   "outputs": [],
   "source": [
    "INFO: <City> is a city in <Country>"
   ]
  },
  {
   "cell_type": "code",
   "execution_count": null,
   "id": "00a4a595",
   "metadata": {},
   "outputs": [],
   "source": []
  },
  {
   "cell_type": "code",
   "execution_count": null,
   "id": "9be898ad",
   "metadata": {},
   "outputs": [],
   "source": []
  },
  {
   "cell_type": "code",
   "execution_count": null,
   "id": "30eae8c0",
   "metadata": {},
   "outputs": [],
   "source": []
  }
 ],
 "metadata": {
  "kernelspec": {
   "display_name": "Python 3 (ipykernel)",
   "language": "python",
   "name": "python3"
  },
  "language_info": {
   "codemirror_mode": {
    "name": "ipython",
    "version": 3
   },
   "file_extension": ".py",
   "mimetype": "text/x-python",
   "name": "python",
   "nbconvert_exporter": "python",
   "pygments_lexer": "ipython3",
   "version": "3.9.7"
  }
 },
 "nbformat": 4,
 "nbformat_minor": 5
}
