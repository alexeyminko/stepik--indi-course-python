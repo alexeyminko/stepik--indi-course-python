{
 "cells": [
  {
   "cell_type": "code",
   "execution_count": 2,
   "id": "96f4d198",
   "metadata": {},
   "outputs": [
    {
     "name": "stdout",
     "output_type": "stream",
     "text": [
      "Лев Николаевич Толстой написал \"Война и мир\"\n"
     ]
    }
   ],
   "source": [
    "#\n",
    "\n",
    "print('Лев Николаевич Толстой написал \"Война и мир\"')"
   ]
  },
  {
   "cell_type": "code",
   "execution_count": 3,
   "id": "f0320e13",
   "metadata": {},
   "outputs": [
    {
     "name": "stdout",
     "output_type": "stream",
     "text": [
      "qwe\n",
      "qwe\n",
      "qwe\n",
      "qwe\n"
     ]
    }
   ],
   "source": [
    "#\n",
    "\n",
    "t1, t2 = input(), input()\n",
    "print(t1, t2, sep='\\n')"
   ]
  },
  {
   "cell_type": "code",
   "execution_count": null,
   "id": "fd51ae34",
   "metadata": {},
   "outputs": [],
   "source": [
    "#\n",
    "\n",
    "t1, t2, t3 = input(), input(), input()\n",
    "print(t3, t2, t1, sep='\\n')"
   ]
  },
  {
   "cell_type": "code",
   "execution_count": 7,
   "id": "ff284935",
   "metadata": {},
   "outputs": [
    {
     "name": "stdout",
     "output_type": "stream",
     "text": [
      "qwe\n",
      "qwe qwe qwe qwe \n"
     ]
    }
   ],
   "source": [
    "#\n",
    "\n",
    "string = input()\n",
    "print((string + ' ') * 4)"
   ]
  },
  {
   "cell_type": "code",
   "execution_count": 8,
   "id": "c6ec3411",
   "metadata": {},
   "outputs": [
    {
     "name": "stdout",
     "output_type": "stream",
     "text": [
      "qwerty\n",
      "6\n"
     ]
    }
   ],
   "source": [
    "#\n",
    "\n",
    "print(len(input()))"
   ]
  },
  {
   "cell_type": "code",
   "execution_count": null,
   "id": "89718956",
   "metadata": {},
   "outputs": [],
   "source": [
    "#\n",
    "\n",
    "t1, t2 = input(), input()\n",
    "print(t2 + t1)"
   ]
  },
  {
   "cell_type": "code",
   "execution_count": 9,
   "id": "4bf41811",
   "metadata": {},
   "outputs": [
    {
     "name": "stdout",
     "output_type": "stream",
     "text": [
      "qwe\n",
      "qweqweqwe\n"
     ]
    }
   ],
   "source": [
    "#\n",
    "\n",
    "print(input() * 3)"
   ]
  },
  {
   "cell_type": "code",
   "execution_count": null,
   "id": "f122d590",
   "metadata": {},
   "outputs": [],
   "source": [
    "#\n",
    "\n",
    "s1, s2, s3 = map(str, input().split())\n",
    "print(f'Simvol code {s1} is {ord(s1)}.')\n",
    "print(f'Simvol code {s2} is {ord(s2)}.')\n",
    "print(f'Simvol code {s3} is {ord(s3)}.')"
   ]
  },
  {
   "cell_type": "code",
   "execution_count": 14,
   "id": "93453ada",
   "metadata": {},
   "outputs": [
    {
     "name": "stdout",
     "output_type": "stream",
     "text": [
      "qwe\n",
      "q\n"
     ]
    }
   ],
   "source": [
    "#\n",
    "\n",
    "print(input()[0])"
   ]
  },
  {
   "cell_type": "code",
   "execution_count": null,
   "id": "c7a3fd3b",
   "metadata": {},
   "outputs": [],
   "source": [
    "#\n",
    "\n",
    "print(input()[-1])"
   ]
  },
  {
   "cell_type": "code",
   "execution_count": 15,
   "id": "1a023f84",
   "metadata": {},
   "outputs": [
    {
     "name": "stdout",
     "output_type": "stream",
     "text": [
      "qwerty\n",
      "qwer\n"
     ]
    }
   ],
   "source": [
    "#\n",
    "\n",
    "print(input()[:4])"
   ]
  },
  {
   "cell_type": "code",
   "execution_count": 16,
   "id": "424510f8",
   "metadata": {},
   "outputs": [
    {
     "name": "stdout",
     "output_type": "stream",
     "text": [
      "qwerty\n",
      "erty\n"
     ]
    }
   ],
   "source": [
    "#\n",
    "\n",
    "print(input()[-4:])"
   ]
  },
  {
   "cell_type": "code",
   "execution_count": 17,
   "id": "9ba175dd",
   "metadata": {},
   "outputs": [
    {
     "name": "stdout",
     "output_type": "stream",
     "text": [
      "qwerty\n",
      "qet\n"
     ]
    }
   ],
   "source": [
    "#\n",
    "\n",
    "print(input()[::2])"
   ]
  },
  {
   "cell_type": "code",
   "execution_count": null,
   "id": "8f9c47ac",
   "metadata": {},
   "outputs": [],
   "source": [
    "#\n",
    "\n",
    "print(input()[1::2])"
   ]
  },
  {
   "cell_type": "code",
   "execution_count": 19,
   "id": "f1e5822a",
   "metadata": {},
   "outputs": [
    {
     "name": "stdout",
     "output_type": "stream",
     "text": [
      "qwerty\n",
      "ye\n"
     ]
    }
   ],
   "source": [
    "#\n",
    "\n",
    "print(input()[::-1][::3])"
   ]
  },
  {
   "cell_type": "code",
   "execution_count": 20,
   "id": "5a18b6bb",
   "metadata": {},
   "outputs": [
    {
     "name": "stdout",
     "output_type": "stream",
     "text": [
      "qwerty\n",
      "yqwert\n"
     ]
    }
   ],
   "source": [
    "#\n",
    "\n",
    "t = input()\n",
    "print(t[-1] + t[:-1])"
   ]
  },
  {
   "cell_type": "code",
   "execution_count": 21,
   "id": "9b7feb31",
   "metadata": {},
   "outputs": [
    {
     "name": "stdout",
     "output_type": "stream",
     "text": [
      "qwerty\n",
      "QWERTY\n"
     ]
    }
   ],
   "source": [
    "#\n",
    "\n",
    "print(input().upper())"
   ]
  },
  {
   "cell_type": "code",
   "execution_count": 23,
   "id": "860cc620",
   "metadata": {},
   "outputs": [
    {
     "name": "stdout",
     "output_type": "stream",
     "text": [
      "qwErte\n",
      "2\n"
     ]
    }
   ],
   "source": [
    "#\n",
    "\n",
    "print(input().lower().count('e'))"
   ]
  },
  {
   "cell_type": "code",
   "execution_count": null,
   "id": "2d94d3b0",
   "metadata": {},
   "outputs": [],
   "source": [
    "#\n",
    "\n",
    "print(input().replace('w', '').replace('z', ''))"
   ]
  },
  {
   "cell_type": "code",
   "execution_count": null,
   "id": "cfc1dfda",
   "metadata": {},
   "outputs": [],
   "source": [
    "#\n",
    "\n",
    "print(input().lower().find('a'))"
   ]
  },
  {
   "cell_type": "code",
   "execution_count": 30,
   "id": "300707b0",
   "metadata": {},
   "outputs": [
    {
     "name": "stdout",
     "output_type": "stream",
     "text": [
      "qwe qwe qwe\n",
      "3\n"
     ]
    }
   ],
   "source": [
    "#\n",
    "\n",
    "print(len(input().split()))"
   ]
  },
  {
   "cell_type": "code",
   "execution_count": 31,
   "id": "1abd7e9c",
   "metadata": {},
   "outputs": [
    {
     "name": "stdout",
     "output_type": "stream",
     "text": [
      "qwe qwe qwe\n",
      "qwe,qwe,qwe\n"
     ]
    }
   ],
   "source": [
    "#\n",
    "\n",
    "print(input().replace(' ', ','))"
   ]
  },
  {
   "cell_type": "code",
   "execution_count": 33,
   "id": "db234d26",
   "metadata": {},
   "outputs": [
    {
     "name": "stdout",
     "output_type": "stream",
     "text": [
      "qwerty\n",
      ".q.w.r.t\n"
     ]
    }
   ],
   "source": [
    "# Упражнение на строки\n",
    "\n",
    "print(''.join(['.' + s for s in input().lower() if s not in 'aoyeui']))"
   ]
  },
  {
   "cell_type": "code",
   "execution_count": 37,
   "id": "e1cc0f85",
   "metadata": {},
   "outputs": [
    {
     "name": "stdout",
     "output_type": "stream",
     "text": [
      "/\\_/\\\n",
      ">^,^<\n",
      " / \\\n",
      "(|_|)_/\n",
      " \n"
     ]
    }
   ],
   "source": [
    "#\n",
    "\n",
    "print('''/\\\\_/\\\\\n",
    ">^,^<\n",
    " / \\\\\n",
    "(|_|)_/\n",
    " ''')"
   ]
  },
  {
   "cell_type": "code",
   "execution_count": 41,
   "id": "1b472657",
   "metadata": {},
   "outputs": [
    {
     "name": "stdout",
     "output_type": "stream",
     "text": [
      "  /~~~\\\n",
      " //^ ^\\\\\n",
      "(/(_*_)\\)\n",
      "_/''*''\\_\n",
      "(/_)^(_\\)\n",
      "\n"
     ]
    }
   ],
   "source": [
    "#\n",
    "\n",
    "print('''  /~~~\\\\\n",
    " //^ ^\\\\\\\\\n",
    "(/(_*_)\\\\)\n",
    "_/''*''\\\\_\n",
    "(/_)^(_\\\\)\n",
    "''')"
   ]
  },
  {
   "cell_type": "code",
   "execution_count": 42,
   "id": "ec834e73",
   "metadata": {},
   "outputs": [
    {
     "name": "stdout",
     "output_type": "stream",
     "text": [
      "qwe\n",
      "Что Вы сказали? qwe? Какое интересное слово\n"
     ]
    }
   ],
   "source": [
    "#\n",
    "\n",
    "print('Что Вы сказали? ' + input() + '?' + ' Какое интересное слово')"
   ]
  },
  {
   "cell_type": "code",
   "execution_count": null,
   "id": "37d5e3bf",
   "metadata": {},
   "outputs": [],
   "source": [
    "#\n",
    "\n",
    "n, m = input(), input()\n",
    "print(f'Здравствуйте, {m} {n}!')"
   ]
  },
  {
   "cell_type": "code",
   "execution_count": null,
   "id": "67f54d4f",
   "metadata": {},
   "outputs": [],
   "source": [
    "#\n",
    "\n",
    "n = int(input())\n",
    "print(f'Для числа {n} предыдущим будет число {n - 1}.')\n",
    "print(f'Для числа {n} следующим будет число {n + 1}.')"
   ]
  },
  {
   "cell_type": "code",
   "execution_count": null,
   "id": "476f37f0",
   "metadata": {},
   "outputs": [],
   "source": [
    "#\n",
    "\n",
    "print(f'Мое имя {input()}!')"
   ]
  },
  {
   "cell_type": "code",
   "execution_count": null,
   "id": "1456c53f",
   "metadata": {},
   "outputs": [],
   "source": [
    "#\n",
    "\n",
    "n, a = input(), input()\n",
    "print(f'Hello {n.upper()}. You are {a} years old.')"
   ]
  },
  {
   "cell_type": "code",
   "execution_count": null,
   "id": "52241bfe",
   "metadata": {},
   "outputs": [],
   "source": [
    "# 77 лет\n",
    "\n",
    "n, h = input(), int(input())\n",
    "print(f'{n}, вам исполнится 77 лет в {h + 77}')"
   ]
  },
  {
   "cell_type": "code",
   "execution_count": null,
   "id": "5c4c5cdf",
   "metadata": {},
   "outputs": [],
   "source": [
    "#\n",
    "\n",
    "sec = int(input())\n",
    "print(f'{sec} сек - это {sec // 60} мин. {sec % 60} сек.')"
   ]
  },
  {
   "cell_type": "code",
   "execution_count": null,
   "id": "0e6505f4",
   "metadata": {},
   "outputs": [],
   "source": [
    "#\n",
    "\n",
    "l, w = map(int, input().split())\n",
    "print(f'Разрешение экрана: {l} x {w}.')\n",
    "print(f'Общее количество пикселей = {l * w}.')"
   ]
  },
  {
   "cell_type": "code",
   "execution_count": null,
   "id": "3e0e63dd",
   "metadata": {},
   "outputs": [],
   "source": [
    "#\n",
    "\n",
    "a, b = int(input()), int(input())\n",
    "print(f'{a} / {b} = {a / b}')\n",
    "print(f'{a} // {b} = {a // b}')\n",
    "print(f'{a} % {b} = {a % b}')"
   ]
  },
  {
   "cell_type": "code",
   "execution_count": null,
   "id": "82a50982",
   "metadata": {},
   "outputs": [],
   "source": [
    "#\n",
    "\n",
    "x, y, z = int(input()), int(input()), int(input())\n",
    "print(f'Vector A({x}, {y}, {z})')\n",
    "print(f'Vector B({x + 5}, {y + 5}, {z + 5})')"
   ]
  },
  {
   "cell_type": "code",
   "execution_count": null,
   "id": "6fbc0ab1",
   "metadata": {},
   "outputs": [],
   "source": [
    "#\n",
    "\n",
    "r, d = float(input()), int(input())\n",
    "print(f'Current dollar rate is {r}. You want buy {d} dollars')\n",
    "print(f'You must pay {r * d}')"
   ]
  },
  {
   "cell_type": "code",
   "execution_count": 45,
   "id": "80e7edf5",
   "metadata": {},
   "outputs": [
    {
     "name": "stdout",
     "output_type": "stream",
     "text": [
      "1 2 3 777\n",
      "True\n"
     ]
    }
   ],
   "source": [
    "#\n",
    "\n",
    "num_list = list(map(int, input().split()))\n",
    "print(777 in num_list)"
   ]
  },
  {
   "cell_type": "code",
   "execution_count": null,
   "id": "78c8e3ec",
   "metadata": {},
   "outputs": [],
   "source": [
    "#\n",
    "\n",
    "num_list = list(map(int, input().split()))\n",
    "print(sum(num_list))"
   ]
  },
  {
   "cell_type": "code",
   "execution_count": null,
   "id": "b6a82fc1",
   "metadata": {},
   "outputs": [],
   "source": [
    "# Арбузы\n",
    "\n",
    "num_list = sorted(list(map(int, input().split())))\n",
    "print(num_list[0], num_list[-1])"
   ]
  },
  {
   "cell_type": "code",
   "execution_count": null,
   "id": "57246441",
   "metadata": {},
   "outputs": [],
   "source": [
    "#\n",
    "\n",
    "num_list = list(map(int, input().split()))\n",
    "print(sum(num_list) / len(num_list))"
   ]
  },
  {
   "cell_type": "code",
   "execution_count": null,
   "id": "3d6567fa",
   "metadata": {},
   "outputs": [],
   "source": [
    "#\n",
    "\n",
    "num_list = list(map(int, input().split()))\n",
    "print(num_list[1])"
   ]
  },
  {
   "cell_type": "code",
   "execution_count": null,
   "id": "ca67857a",
   "metadata": {},
   "outputs": [],
   "source": [
    "#\n",
    "\n",
    "num_list = list(map(int, input().split()))\n",
    "print(num_list[2:5])"
   ]
  },
  {
   "cell_type": "code",
   "execution_count": null,
   "id": "5e231b29",
   "metadata": {},
   "outputs": [],
   "source": [
    "#\n",
    "\n",
    "num_list = list(map(int, input().split()))\n",
    "print(num_list[-3:])"
   ]
  },
  {
   "cell_type": "code",
   "execution_count": null,
   "id": "f730981e",
   "metadata": {},
   "outputs": [],
   "source": [
    "#\n",
    "\n",
    "num_list = list(map(int, input().split()))\n",
    "print(num_list[1::3])"
   ]
  },
  {
   "cell_type": "code",
   "execution_count": null,
   "id": "97df5ccd",
   "metadata": {},
   "outputs": [],
   "source": [
    "#\n",
    "\n",
    "num_list = list(map(int, input().split()))\n",
    "print(num_list[::-1])"
   ]
  },
  {
   "cell_type": "code",
   "execution_count": null,
   "id": "89c73978",
   "metadata": {},
   "outputs": [],
   "source": [
    "#\n",
    "\n",
    "num_list = list(map(int, input().split()))\n",
    "print(num_list.count(999))"
   ]
  },
  {
   "cell_type": "code",
   "execution_count": 47,
   "id": "6d1e45f1",
   "metadata": {},
   "outputs": [
    {
     "name": "stdout",
     "output_type": "stream",
     "text": [
      "Бросай курить\n",
      "Б-Р-О-С-А-Й К-У-Р-И-Т-Ь "
     ]
    }
   ],
   "source": [
    "# Дефиснутая фраза\n",
    "\n",
    "word_list = list(map(str, input().upper().split()))\n",
    "for elem in word_list:\n",
    "    print('-'.join(elem), end=' ')"
   ]
  },
  {
   "cell_type": "code",
   "execution_count": 48,
   "id": "f28d105d",
   "metadata": {},
   "outputs": [
    {
     "name": "stdout",
     "output_type": "stream",
     "text": [
      "Буря мглою небо кроет\n",
      "Буря\n",
      "мглою\n",
      "небо\n",
      "кроет\n"
     ]
    }
   ],
   "source": [
    "#\n",
    "\n",
    "word_list = list(map(str, input().split()))\n",
    "print('\\n'.join(word_list))"
   ]
  },
  {
   "cell_type": "code",
   "execution_count": null,
   "id": "af8c91d1",
   "metadata": {},
   "outputs": [],
   "source": [
    "# Инициалы\n",
    "\n",
    "word_list = list(map(str, input().split()))\n",
    "print(f'{word_list[2]} {word_list[0][0]}.{word_list[1][0]}.')"
   ]
  }
 ],
 "metadata": {
  "kernelspec": {
   "display_name": "Python 3 (ipykernel)",
   "language": "python",
   "name": "python3"
  },
  "language_info": {
   "codemirror_mode": {
    "name": "ipython",
    "version": 3
   },
   "file_extension": ".py",
   "mimetype": "text/x-python",
   "name": "python",
   "nbconvert_exporter": "python",
   "pygments_lexer": "ipython3",
   "version": "3.9.7"
  }
 },
 "nbformat": 4,
 "nbformat_minor": 5
}
