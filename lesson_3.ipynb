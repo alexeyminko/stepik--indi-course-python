{
 "cells": [
  {
   "cell_type": "code",
   "execution_count": null,
   "id": "c45adcfe",
   "metadata": {},
   "outputs": [],
   "source": [
    "#\n",
    "\n",
    "money = int(input())\n",
    "if money > 20000:\n",
    "    print(money * 0.87)\n",
    "else:\n",
    "    print(money)"
   ]
  },
  {
   "cell_type": "code",
   "execution_count": null,
   "id": "e7c6c059",
   "metadata": {},
   "outputs": [],
   "source": [
    "#\n",
    "\n",
    "string = input()\n",
    "if string == 'Python':\n",
    "    print('ДА')\n",
    "else:\n",
    "    print('НЕТ')"
   ]
  },
  {
   "cell_type": "code",
   "execution_count": 2,
   "id": "1a41259e",
   "metadata": {},
   "outputs": [
    {
     "name": "stdout",
     "output_type": "stream",
     "text": [
      "8\n",
      "11\n",
      "11\n"
     ]
    }
   ],
   "source": [
    "#\n",
    "\n",
    "a, b = int(input()), int(input())\n",
    "print(a if a > b else b)"
   ]
  },
  {
   "cell_type": "code",
   "execution_count": 1,
   "id": "377f05d5",
   "metadata": {},
   "outputs": [
    {
     "name": "stdout",
     "output_type": "stream",
     "text": [
      "123\n",
      "NO\n"
     ]
    }
   ],
   "source": [
    "#\n",
    "\n",
    "num = input()\n",
    "print('YES' if num == num[::-1] else 'NO')"
   ]
  },
  {
   "cell_type": "code",
   "execution_count": null,
   "id": "372bf1b8",
   "metadata": {},
   "outputs": [],
   "source": [
    "#\n",
    "\n",
    "a, b, c = map(int, input().split())\n",
    "print('YES' if a + b == c else 'NO')"
   ]
  },
  {
   "cell_type": "code",
   "execution_count": null,
   "id": "dcda32f4",
   "metadata": {},
   "outputs": [],
   "source": [
    "#\n",
    "\n",
    "s, t = input(), input()\n",
    "print('YES' if s[::-1] == t else 'NO')"
   ]
  },
  {
   "cell_type": "code",
   "execution_count": 3,
   "id": "b634c469",
   "metadata": {},
   "outputs": [
    {
     "name": "stdout",
     "output_type": "stream",
     "text": [
      "3\n",
      "4\n",
      "5\n",
      "YES\n"
     ]
    }
   ],
   "source": [
    "#\n",
    "\n",
    "a, b, c = int(input()), int(input()), int(input())\n",
    "print('YES' if a + b > c and a + c > b and b + c > a else 'NO')"
   ]
  },
  {
   "cell_type": "code",
   "execution_count": 5,
   "id": "78f64dc6",
   "metadata": {},
   "outputs": [
    {
     "name": "stdout",
     "output_type": "stream",
     "text": [
      "2011\n",
      "YES\n"
     ]
    }
   ],
   "source": [
    "# Счастливый билет\n",
    "\n",
    "ticket = input()\n",
    "ticket = '0' * (6 - len(ticket)) + ticket\n",
    "total_1 = sum([int(i) for i in ticket[:3]])\n",
    "total_2 = sum([int(i) for i in ticket[-3:]])\n",
    "print('YES' if total_1 == total_2 else 'NO')"
   ]
  },
  {
   "cell_type": "code",
   "execution_count": 11,
   "id": "236060c0",
   "metadata": {},
   "outputs": [
    {
     "name": "stdout",
     "output_type": "stream",
     "text": [
      "f5\n",
      "c3\n",
      "NO\n"
     ]
    }
   ],
   "source": [
    "#\n",
    "\n",
    "coords_1, coords_2 = input(), input()\n",
    "if abs(ord(coords_1[0]) - ord(coords_2[0])) % 2 == 0:\n",
    "    print('YES' if abs(int(coords_1[1]) - int(coords_2[1])) % 2 == 0 else 'NO')\n",
    "else:\n",
    "    print('YES' if abs(int(coords_1[1]) - int(coords_2[1])) % 2 == 1 else 'NO')"
   ]
  },
  {
   "cell_type": "code",
   "execution_count": 24,
   "id": "c635bf68",
   "metadata": {},
   "outputs": [
    {
     "name": "stdout",
     "output_type": "stream",
     "text": [
      "4\n",
      "2\n"
     ]
    }
   ],
   "source": [
    "#\n",
    "\n",
    "num = int(input())\n",
    "print(num // 2 if num % 2 == 0 else -num // 2)"
   ]
  },
  {
   "cell_type": "code",
   "execution_count": null,
   "id": "5b61c0ab",
   "metadata": {},
   "outputs": [],
   "source": [
    "#\n",
    "\n",
    "a, b = int(input()), int(input())\n",
    "if a > b:\n",
    "    print('>')\n",
    "elif a == b:\n",
    "    print('=')\n",
    "else:\n",
    "    print('<')"
   ]
  },
  {
   "cell_type": "code",
   "execution_count": null,
   "id": "e96a2e2f",
   "metadata": {},
   "outputs": [],
   "source": [
    "#\n",
    "\n",
    "a, b, c = int(input()), int(input()), int(input())\n",
    "if b < a > c:\n",
    "    print(a)\n",
    "elif a < b > c:\n",
    "    print(b)\n",
    "else:\n",
    "    print(c)"
   ]
  },
  {
   "cell_type": "code",
   "execution_count": null,
   "id": "12e44b99",
   "metadata": {},
   "outputs": [],
   "source": [
    "#\n",
    "\n",
    "n = int(input())\n",
    "if n == 1:\n",
    "    print(0)\n",
    "elif n % 2 == 0:\n",
    "    print(n // 2)\n",
    "else:\n",
    "    print(n)"
   ]
  },
  {
   "cell_type": "code",
   "execution_count": 25,
   "id": "8fc15348",
   "metadata": {},
   "outputs": [
    {
     "name": "stdout",
     "output_type": "stream",
     "text": [
      "100 500 1000\n",
      "900\n"
     ]
    }
   ],
   "source": [
    "#\n",
    "\n",
    "a, b, c = map(int, input().split())\n",
    "max_diff = abs(a - b)\n",
    "if abs(a - c) > max_diff:\n",
    "    max_diff = abs(a - c)\n",
    "elif abs(b - c) > max_diff:\n",
    "    max_diff = abs(b - c)\n",
    "print(max_diff)\n"
   ]
  },
  {
   "cell_type": "code",
   "execution_count": 28,
   "id": "b6826f75",
   "metadata": {},
   "outputs": [
    {
     "name": "stdout",
     "output_type": "stream",
     "text": [
      "abcdefg\n",
      "AbCdEfF\n",
      "1\n"
     ]
    }
   ],
   "source": [
    "#\n",
    "\n",
    "string_1, string_2 = input().lower(), input().lower()\n",
    "if string_1 > string_2:\n",
    "    print(1)\n",
    "elif string_1 < string_2:\n",
    "    print(-1)\n",
    "else:\n",
    "    print(0)"
   ]
  },
  {
   "cell_type": "code",
   "execution_count": 31,
   "id": "be9205e7",
   "metadata": {},
   "outputs": [
    {
     "name": "stdout",
     "output_type": "stream",
     "text": [
      "4 5 3 1 5\n",
      "Friendship\n"
     ]
    }
   ],
   "source": [
    "# Кнопочные гонки\n",
    "\n",
    "s, v1, v2, t1, t2 = map(int, input().split())\n",
    "if s * v1 + t1 * 2 < s * v2 + t2 * 2:\n",
    "    print('First')\n",
    "elif s * v1 + t1 * 2 > s * v2 + t2 * 2:\n",
    "    print('Second')\n",
    "else:\n",
    "    print('Friendship')"
   ]
  },
  {
   "cell_type": "code",
   "execution_count": 33,
   "id": "81fc2e07",
   "metadata": {},
   "outputs": [
    {
     "name": "stdout",
     "output_type": "stream",
     "text": [
      "Тверь\n",
      "Роттердам\n",
      "Good\n"
     ]
    }
   ],
   "source": [
    "#\n",
    "\n",
    "city_1, city_2 = input().lower(), input().lower()\n",
    "if city_1[-1] == 'ь':\n",
    "    city_1 = city_1[:-1]\n",
    "if city_1[-1] == city_2[0]:\n",
    "    print('Good')\n",
    "else:\n",
    "    print('Bad')"
   ]
  },
  {
   "cell_type": "code",
   "execution_count": null,
   "id": "36e43026",
   "metadata": {},
   "outputs": [],
   "source": [
    "# FizzBuzz\n",
    "\n",
    "num = int(input())\n",
    "if num % 5 == 0 and num % 3 == 0:\n",
    "    print('FizzBuzz')\n",
    "elif num % 5 == 0:\n",
    "    print('Buzz')\n",
    "elif num % 3 == 0:\n",
    "    print('Fizz')\n",
    "else:\n",
    "    print(num)"
   ]
  },
  {
   "cell_type": "code",
   "execution_count": 36,
   "id": "2d64d6f3",
   "metadata": {},
   "outputs": [
    {
     "name": "stdout",
     "output_type": "stream",
     "text": [
      "7\n",
      "8\n",
      "5\n",
      "0\n"
     ]
    }
   ],
   "source": [
    "#\n",
    "\n",
    "num_list =  [int(input()) for i in range(3)]\n",
    "print(4 - len(set(num_list)) if len(set(num_list)) != 3 else 0)"
   ]
  },
  {
   "cell_type": "code",
   "execution_count": 41,
   "id": "696817e8",
   "metadata": {},
   "outputs": [
    {
     "name": "stdout",
     "output_type": "stream",
     "text": [
      "12\n",
      "Декабрь\n"
     ]
    }
   ],
   "source": [
    "#\n",
    "\n",
    "month_list = ['Январь', 'Февраль', 'Март', 'Апрель', 'Май',\n",
    "              'Июнь', 'Июль', 'Август', 'Сентябрь', 'Октябрь',\n",
    "              'Ноябрь', 'Декабрь']\n",
    "print(month_list[int(input()) - 1])"
   ]
  },
  {
   "cell_type": "code",
   "execution_count": null,
   "id": "7350bc27",
   "metadata": {},
   "outputs": [],
   "source": [
    "age = int(input())\n",
    "if age >= 65:\n",
    "    print('Пожилой человек')\n",
    "elif age >= 19:\n",
    "    print('Взрослый человек')\n",
    "elif age >= 12:\n",
    "    print('Подросток')\n",
    "elif age >= 4:\n",
    "    print('Ребенок')\n",
    "elif age >= 2:\n",
    "    print('Малыш')\n",
    "else:\n",
    "    print('Младенец')"
   ]
  },
  {
   "cell_type": "code",
   "execution_count": null,
   "id": "aa8977d4",
   "metadata": {},
   "outputs": [],
   "source": [
    "# Калькулятор своими руками\n",
    "\n",
    "a, b, s = float(input()), float(input()), input()\n",
    "if s == '+':\n",
    "    print(a + b)\n",
    "elif s == '-':\n",
    "    print(a - b)\n",
    "elif s == '*':\n",
    "    print(a * b)\n",
    "elif s == '/' and b != 0:\n",
    "    print(a / b)\n",
    "else:\n",
    "     print('Неизвестно')\n",
    "    "
   ]
  },
  {
   "cell_type": "code",
   "execution_count": 43,
   "id": "3eaa7e90",
   "metadata": {},
   "outputs": [
    {
     "name": "stdout",
     "output_type": "stream",
     "text": [
      "qwerty123\n",
      "qwerty\n",
      "Difference\n"
     ]
    }
   ],
   "source": [
    "#\n",
    "\n",
    "password_1, password_2 = input(), input()\n",
    "if len(password_1) < 7:\n",
    "    print('Short')\n",
    "elif password_1 != password_2:\n",
    "    print('Difference')\n",
    "else:\n",
    "    print('OK')"
   ]
  }
 ],
 "metadata": {
  "kernelspec": {
   "display_name": "Python 3 (ipykernel)",
   "language": "python",
   "name": "python3"
  },
  "language_info": {
   "codemirror_mode": {
    "name": "ipython",
    "version": 3
   },
   "file_extension": ".py",
   "mimetype": "text/x-python",
   "name": "python",
   "nbconvert_exporter": "python",
   "pygments_lexer": "ipython3",
   "version": "3.9.7"
  }
 },
 "nbformat": 4,
 "nbformat_minor": 5
}
