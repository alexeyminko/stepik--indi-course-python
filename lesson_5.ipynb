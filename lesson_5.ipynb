{
 "cells": [
  {
   "cell_type": "code",
   "execution_count": 2,
   "id": "9800d23b",
   "metadata": {},
   "outputs": [
    {
     "name": "stdout",
     "output_type": "stream",
     "text": [
      "[0, 1, 2, 3, 4, 5, 6, 7, 8, 9]\n"
     ]
    }
   ],
   "source": [
    "#\n",
    "\n",
    "print(list(range(10)))"
   ]
  },
  {
   "cell_type": "code",
   "execution_count": null,
   "id": "df79905f",
   "metadata": {},
   "outputs": [],
   "source": [
    "#\n",
    "\n",
    "n = int(input())\n",
    "for i in range(1, n + 1):\n",
    "    print(i)"
   ]
  },
  {
   "cell_type": "code",
   "execution_count": null,
   "id": "4c1d6766",
   "metadata": {},
   "outputs": [],
   "source": [
    "# Минутка сожаления\n",
    "\n",
    "for i in range(13):\n",
    "    print('Надо было брать биткоин в 2012!')"
   ]
  },
  {
   "cell_type": "code",
   "execution_count": null,
   "id": "ec2e9503",
   "metadata": {},
   "outputs": [],
   "source": [
    "# Повторение - мать учения \n",
    "\n",
    "string, n = input(), int(input())\n",
    "for i in range(n):\n",
    "    print(string)"
   ]
  },
  {
   "cell_type": "code",
   "execution_count": 1,
   "id": "d4384cfd",
   "metadata": {},
   "outputs": [
    {
     "name": "stdout",
     "output_type": "stream",
     "text": [
      "7\n",
      "15\n",
      "7\n",
      "8\n",
      "Fizz\n",
      "Buzz\n",
      "11\n",
      "Fizz\n",
      "13\n",
      "14\n",
      "FizzBuzz\n"
     ]
    }
   ],
   "source": [
    "# \n",
    "\n",
    "a, b = int(input()), int(input())\n",
    "for i in range(a, b + 1):\n",
    "    if i % 5 == 0 and i % 3 == 0:\n",
    "        print('FizzBuzz')\n",
    "    elif i % 5 == 0:\n",
    "        print('Buzz')\n",
    "    elif i % 3 == 0:\n",
    "        print('Fizz')\n",
    "    else:\n",
    "        print(i)    "
   ]
  },
  {
   "cell_type": "code",
   "execution_count": null,
   "id": "dc792241",
   "metadata": {},
   "outputs": [],
   "source": [
    "# Квадрат и куб\n",
    "\n",
    "a, b = int(input()), int(input())\n",
    "for i in range(a, b + 1):\n",
    "    print(f'Число {i}; его квадрат = {i**2}; его куб = {i**3}')"
   ]
  },
  {
   "cell_type": "code",
   "execution_count": null,
   "id": "67886e4d",
   "metadata": {},
   "outputs": [],
   "source": [
    "# Мишка и игра\n",
    "\n",
    "n = int(input())\n",
    "count_m = count_c = 0\n",
    "for i in range(n):\n",
    "    m, c = map(int, input().split())\n",
    "    if m > c:\n",
    "        count_m += 1\n",
    "    elif c > m:\n",
    "        count_c += 1\n",
    "if count_m > count_c:\n",
    "    print('Mishka')\n",
    "elif count_m < count_c:\n",
    "    print('Chris')\n",
    "else:\n",
    "    print('Friendship is magic!^^') "
   ]
  },
  {
   "cell_type": "code",
   "execution_count": null,
   "id": "4e444757",
   "metadata": {},
   "outputs": [],
   "source": [
    "#\n",
    "\n",
    "n = int(input())\n",
    "for i in range(1, n + 1):\n",
    "    string = input().lower()\n",
    "    if 'рок' in string:\n",
    "        print(i, string.find('рок') + 1)"
   ]
  },
  {
   "cell_type": "code",
   "execution_count": null,
   "id": "c30c3cb9",
   "metadata": {},
   "outputs": [],
   "source": [
    "n = int(input())\n",
    "res = []\n",
    "for i in range(1, n + 1):\n",
    "    string = input()\n",
    "    if 'соль' not in string:\n",
    "        res.append(string)\n",
    "print(*res, sep=',')"
   ]
  },
  {
   "cell_type": "code",
   "execution_count": 4,
   "id": "1e932ddd",
   "metadata": {},
   "outputs": [
    {
     "name": "stdout",
     "output_type": "stream",
     "text": [
      "9\n",
      "14\n"
     ]
    }
   ],
   "source": [
    "# Кратные 3 или 5\n",
    "\n",
    "n = int(input())\n",
    "print(sum([i for i in range(3, n) if i % 3 == 0 or i % 5 == 0]))   "
   ]
  },
  {
   "cell_type": "code",
   "execution_count": 5,
   "id": "30d63bd9",
   "metadata": {},
   "outputs": [
    {
     "name": "stdout",
     "output_type": "stream",
     "text": [
      "24001875\n"
     ]
    }
   ],
   "source": [
    "# \n",
    "\n",
    "print(sum([i**3 for i in range(50, 101)]))"
   ]
  },
  {
   "cell_type": "code",
   "execution_count": null,
   "id": "e3d9ffe8",
   "metadata": {},
   "outputs": [],
   "source": [
    "# Слишком длинные слова\n",
    "\n",
    "n = int(input())\n",
    "for i in range(n):\n",
    "    string = input()\n",
    "    if len(string) > 10:\n",
    "        print(string[0] + str(len(string) - 2) + string[-1])\n",
    "    else:\n",
    "        print(string)"
   ]
  },
  {
   "cell_type": "code",
   "execution_count": 6,
   "id": "a493b104",
   "metadata": {},
   "outputs": [
    {
     "data": {
      "text/plain": [
       "227"
      ]
     },
     "execution_count": 6,
     "metadata": {},
     "output_type": "execute_result"
    }
   ],
   "source": [
    "# Заполняем список\n",
    "\n",
    "n = int(input())\n",
    "res = []\n",
    "for i in range(n):\n",
    "    res.append(input())\n",
    "print(res)"
   ]
  },
  {
   "cell_type": "code",
   "execution_count": null,
   "id": "7c08ff78",
   "metadata": {},
   "outputs": [],
   "source": [
    "#\n",
    "\n",
    "s, t_list = input(), list(input().split())\n",
    "for elem in t_list:\n",
    "    if s in elem.lower():\n",
    "        print(elem)"
   ]
  },
  {
   "cell_type": "code",
   "execution_count": 11,
   "id": "fcf49ebb",
   "metadata": {},
   "outputs": [
    {
     "name": "stdout",
     "output_type": "stream",
     "text": [
      "-4 -7 0 -19\n",
      "Empty\n"
     ]
    }
   ],
   "source": [
    "#\n",
    "\n",
    "n_list = list(map(int, input().split()))\n",
    "minimum = max(n_list)\n",
    "for elem in n_list:\n",
    "    if elem > 0 and elem < minimum:\n",
    "        minimum = elem\n",
    "print(minimum if minimum > 0 else 'Empty')"
   ]
  },
  {
   "cell_type": "code",
   "execution_count": 12,
   "id": "c8de17e0",
   "metadata": {},
   "outputs": [
    {
     "name": "stdout",
     "output_type": "stream",
     "text": [
      "sokol\n",
      "2\n"
     ]
    }
   ],
   "source": [
    "#\n",
    "\n",
    "string = input().lower()\n",
    "count_s = 0\n",
    "for i in string:\n",
    "    if string.count(i) > count_s:\n",
    "        count_s = string.count(i)\n",
    "print(count_s)"
   ]
  },
  {
   "cell_type": "code",
   "execution_count": 19,
   "id": "722fd278",
   "metadata": {},
   "outputs": [
    {
     "name": "stdout",
     "output_type": "stream",
     "text": [
      "1211\n",
      "NO\n"
     ]
    }
   ],
   "source": [
    "# Делимость на 11\n",
    "\n",
    "n = input()\n",
    "res_1 = sum([int(n[i]) for i in range(0, len(n), 2)])\n",
    "res_2 = sum([int(n[i]) for i in range(1, len(n), 2)])\n",
    "if abs(res_1 - res_2) % 11 == 0:\n",
    "    print('YES')\n",
    "else:\n",
    "    print('NO')"
   ]
  },
  {
   "cell_type": "code",
   "execution_count": 21,
   "id": "26d301ba",
   "metadata": {},
   "outputs": [
    {
     "name": "stdout",
     "output_type": "stream",
     "text": [
      "Europe cup 2021\n",
      "4 5\n"
     ]
    }
   ],
   "source": [
    "#  \n",
    "\n",
    "string = input()\n",
    "res = [int(i) for i in string if i.isdigit()]\n",
    "print(len(res), sum(res))"
   ]
  },
  {
   "cell_type": "code",
   "execution_count": 36,
   "id": "8038be29",
   "metadata": {},
   "outputs": [
    {
     "name": "stdout",
     "output_type": "stream",
     "text": [
      "\n",
      "YES\n"
     ]
    }
   ],
   "source": [
    "# Правильная скобочная последовательность\n",
    "\n",
    "string = input()\n",
    "s_dict = {'[':']', ']':'[', '(':')', ')':'(', '{':'}', '}':'{'}\n",
    "if len(string) > 0:\n",
    "    res = [s_dict[string[0]]]\n",
    "    for i in range(1, len(string)):\n",
    "        if len(res) > 0 and string[i] == res[-1]:\n",
    "            res.pop()\n",
    "        else:\n",
    "            res.append(s_dict[string[i]])\n",
    "    print('YES' if len(res) == 0 else 'NO')\n",
    "else: \n",
    "    print('YES')"
   ]
  },
  {
   "cell_type": "code",
   "execution_count": 38,
   "id": "a6f12e22",
   "metadata": {},
   "outputs": [
    {
     "name": "stdout",
     "output_type": "stream",
     "text": [
      "11111\n",
      "1 5\n"
     ]
    }
   ],
   "source": [
    "#\n",
    "\n",
    "n = input()\n",
    "res = [0]*10\n",
    "for s in n:\n",
    "    res[int(s)] += 1\n",
    "for i in range(10):\n",
    "    if res[i] > 0:\n",
    "        print(i, res[i])"
   ]
  },
  {
   "cell_type": "code",
   "execution_count": 43,
   "id": "03b3cb4b",
   "metadata": {},
   "outputs": [
    {
     "name": "stdout",
     "output_type": "stream",
     "text": [
      "8\n",
      "66 -66 -48 -96 -17 -80 -57 -45\n",
      "-96 -80 -66 -57 -48 -45 -17 66 "
     ]
    }
   ],
   "source": [
    "# Сортировка подсчетом\n",
    "\n",
    "n, n_list = int(input()), list(map(int, input().split()))\n",
    "res = [0] * 201\n",
    "for elem in n_list:\n",
    "    res[elem + 100] += 1\n",
    "for i in range(201):\n",
    "    if res[i] > 0:\n",
    "        print((str(i - 100) + ' ') * res[i], end='')   "
   ]
  },
  {
   "cell_type": "markdown",
   "id": "19079d58",
   "metadata": {},
   "source": [
    "# QWE"
   ]
  },
  {
   "cell_type": "code",
   "execution_count": 44,
   "id": "860c4c50",
   "metadata": {},
   "outputs": [
    {
     "name": "stdout",
     "output_type": "stream",
     "text": [
      "0123456789abcdefghijklmnopqrstuvwxyzABCDEFGHIJKLMNOPQRSTUVWXYZ!\"#$%&'()*+,-./:;<=>?@[\\]^_`{|}~ \t\n",
      "\r",
      "\u000b",
      "\f",
      "\n"
     ]
    }
   ],
   "source": [
    "from string import printable\n",
    "print(printable)"
   ]
  },
  {
   "cell_type": "code",
   "execution_count": 46,
   "id": "6ad3e32f",
   "metadata": {},
   "outputs": [
    {
     "name": "stdout",
     "output_type": "stream",
     "text": [
      "1000000\n"
     ]
    }
   ],
   "source": [
    "count = 0\n",
    "for i in printable:\n",
    "    for j in printable:\n",
    "        for k in printable:\n",
    "            count += 1\n",
    "print(count)"
   ]
  },
  {
   "cell_type": "code",
   "execution_count": 56,
   "id": "0f470d2b",
   "metadata": {},
   "outputs": [
    {
     "name": "stdout",
     "output_type": "stream",
     "text": [
      "1 * 1 = 1|2 * 1 = 2|3 * 1 = 3|4 * 1 = 4|5 * 1 = 5|6 * 1 = 6|7 * 1 = 7|8 * 1 = 8|9 * 1 = 9|10 * 1 = 10|\n",
      "1 * 2 = 2|2 * 2 = 4|3 * 2 = 6|4 * 2 = 8|5 * 2 = 10|6 * 2 = 12|7 * 2 = 14|8 * 2 = 16|9 * 2 = 18|10 * 2 = 20|\n",
      "1 * 3 = 3|2 * 3 = 6|3 * 3 = 9|4 * 3 = 12|5 * 3 = 15|6 * 3 = 18|7 * 3 = 21|8 * 3 = 24|9 * 3 = 27|10 * 3 = 30|\n",
      "1 * 4 = 4|2 * 4 = 8|3 * 4 = 12|4 * 4 = 16|5 * 4 = 20|6 * 4 = 24|7 * 4 = 28|8 * 4 = 32|9 * 4 = 36|10 * 4 = 40|\n",
      "1 * 5 = 5|2 * 5 = 10|3 * 5 = 15|4 * 5 = 20|5 * 5 = 25|6 * 5 = 30|7 * 5 = 35|8 * 5 = 40|9 * 5 = 45|10 * 5 = 50|\n",
      "1 * 6 = 6|2 * 6 = 12|3 * 6 = 18|4 * 6 = 24|5 * 6 = 30|6 * 6 = 36|7 * 6 = 42|8 * 6 = 48|9 * 6 = 54|10 * 6 = 60|\n",
      "1 * 7 = 7|2 * 7 = 14|3 * 7 = 21|4 * 7 = 28|5 * 7 = 35|6 * 7 = 42|7 * 7 = 49|8 * 7 = 56|9 * 7 = 63|10 * 7 = 70|\n",
      "1 * 8 = 8|2 * 8 = 16|3 * 8 = 24|4 * 8 = 32|5 * 8 = 40|6 * 8 = 48|7 * 8 = 56|8 * 8 = 64|9 * 8 = 72|10 * 8 = 80|\n",
      "1 * 9 = 9|2 * 9 = 18|3 * 9 = 27|4 * 9 = 36|5 * 9 = 45|6 * 9 = 54|7 * 9 = 63|8 * 9 = 72|9 * 9 = 81|10 * 9 = 90|\n"
     ]
    }
   ],
   "source": [
    "for x in range(1, 10):\n",
    "    for y in range(1, 11):\n",
    "        print(y, '*', x, '=', x * y, end='|')\n",
    "    print()"
   ]
  },
  {
   "cell_type": "code",
   "execution_count": 61,
   "id": "c0743a4b",
   "metadata": {},
   "outputs": [
    {
     "name": "stdout",
     "output_type": "stream",
     "text": [
      "1944\n"
     ]
    }
   ],
   "source": [
    "count = 0\n",
    "res = []\n",
    "for s1 in 'tkv':\n",
    "    for s2 in 'tykva':\n",
    "        for s3 in 'tykva':\n",
    "            for s4 in 'tykva':\n",
    "                for s5 in 'tykva':\n",
    "                    for s6 in 'tkv':\n",
    "                        word = s1 + s2 + s3 + s4 + s5 + s6\n",
    "                        if word.count('y') + word.count('a') == 2:\n",
    "                            count += 1\n",
    "print(count)"
   ]
  },
  {
   "cell_type": "markdown",
   "id": "2c3a243e",
   "metadata": {},
   "source": [
    "# QWE"
   ]
  },
  {
   "cell_type": "code",
   "execution_count": 65,
   "id": "afa14f57",
   "metadata": {},
   "outputs": [
    {
     "name": "stdout",
     "output_type": "stream",
     "text": [
      "3489675\n"
     ]
    }
   ],
   "source": [
    "#\n",
    "\n",
    "total = 0\n",
    "for i in range(1199, 9921):\n",
    "    s = 0\n",
    "    x = i\n",
    "    while x > 0:\n",
    "        s += x % 10\n",
    "        x //= 10\n",
    "    if s == 20:\n",
    "        total += i\n",
    "print(total)\n",
    "        "
   ]
  },
  {
   "cell_type": "code",
   "execution_count": 67,
   "id": "42084f1d",
   "metadata": {
    "scrolled": true
   },
   "outputs": [
    {
     "name": "stdout",
     "output_type": "stream",
     "text": [
      "3\n",
      "1 \n",
      "1 2 \n",
      "1 2 3 \n"
     ]
    }
   ],
   "source": [
    "#\n",
    "\n",
    "n = int(input())\n",
    "for i in range(1, n + 1):\n",
    "    for j in range(1, i + 1):\n",
    "        print(j, end=' ')\n",
    "    print()"
   ]
  },
  {
   "cell_type": "code",
   "execution_count": 83,
   "id": "a8405c70",
   "metadata": {},
   "outputs": [
    {
     "name": "stdout",
     "output_type": "stream",
     "text": [
      "1000\n",
      "135\n"
     ]
    }
   ],
   "source": [
    "# Постулат Бертрана\n",
    "\n",
    "count = 0\n",
    "n = int(input())\n",
    "for i in range(n + 1, 2 * n ):\n",
    "    dividers, x = 0, 2\n",
    "    while x**2 <= i:\n",
    "        if i % x == 0:\n",
    "            dividers += 1\n",
    "            break\n",
    "        x += 1\n",
    "    if dividers == 0:\n",
    "        count += 1\n",
    "print(count)"
   ]
  },
  {
   "cell_type": "code",
   "execution_count": 86,
   "id": "91b73948",
   "metadata": {},
   "outputs": [
    {
     "name": "stdout",
     "output_type": "stream",
     "text": [
      "4 20\n",
      "0\n"
     ]
    }
   ],
   "source": [
    "# Система уравнений\n",
    "\n",
    "n, m = map(int, input().split())\n",
    "count = 0\n",
    "for a in range(int(n**0.5) + 1):\n",
    "    for b in range(int(m**0.5) + 1):\n",
    "        if a**2 + b == n and a + b**2 == m:\n",
    "            count += 1\n",
    "print(count)"
   ]
  },
  {
   "cell_type": "code",
   "execution_count": 87,
   "id": "121043c3",
   "metadata": {},
   "outputs": [
    {
     "name": "stdout",
     "output_type": "stream",
     "text": [
      "3 7 1 10 8\n",
      "***\n",
      "*******\n",
      "*\n",
      "**********\n",
      "********\n"
     ]
    }
   ],
   "source": [
    "#\n",
    "\n",
    "n_list = list(map(int, input().split()))\n",
    "for n in n_list:\n",
    "    print('*' * n)"
   ]
  },
  {
   "cell_type": "code",
   "execution_count": 93,
   "id": "8b10e31a",
   "metadata": {},
   "outputs": [
    {
     "name": "stdout",
     "output_type": "stream",
     "text": [
      "3\n",
      "9 8 -4\n",
      "-4 8 9\n",
      "3\n"
     ]
    }
   ],
   "source": [
    "# Cортировкa пузырьком\n",
    "\n",
    "n, n_list = int(input()), list(map(int, input().split()))\n",
    "count = 0\n",
    "for i in range(n - 1):\n",
    "    for j in range(n - 1 - i):\n",
    "        if n_list[j] > n_list[j + 1]:\n",
    "            count += 1\n",
    "            n_list[j], n_list[j + 1] = n_list[j + 1], n_list[j]\n",
    "print(*n_list)\n",
    "print(count)"
   ]
  },
  {
   "cell_type": "code",
   "execution_count": 97,
   "id": "83298166",
   "metadata": {},
   "outputs": [
    {
     "name": "stdout",
     "output_type": "stream",
     "text": [
      "5\n",
      "11 2 8 1 5\n",
      "1 2 5 8 11\n"
     ]
    }
   ],
   "source": [
    "# Сортировка вставками\n",
    "\n",
    "n, n_list = int(input()), list(map(int, input().split()))\n",
    "for i in range(1, n):\n",
    "    while i > 0:\n",
    "        if n_list[i] < n_list[i - 1]:\n",
    "            n_list[i - 1], n_list[i] = n_list[i], n_list[i - 1]\n",
    "        i -= 1\n",
    "print(*n_list)"
   ]
  },
  {
   "cell_type": "markdown",
   "id": "6977e7b9",
   "metadata": {},
   "source": [
    "# 5.6"
   ]
  },
  {
   "cell_type": "code",
   "execution_count": 103,
   "id": "9f89fedf",
   "metadata": {},
   "outputs": [
    {
     "name": "stdout",
     "output_type": "stream",
     "text": [
      "3\n",
      "1 2 3\n",
      "4 5 6\n",
      "7 8 9\n",
      "15\n"
     ]
    }
   ],
   "source": [
    "#\n",
    "\n",
    "n = int(input())\n",
    "res = []\n",
    "for i in range(n):\n",
    "    n_list = list(map(int, input().split()))\n",
    "    res.append(n_list)\n",
    "total = 0\n",
    "for i in range(n):\n",
    "    for j in range(n):\n",
    "        if i == j:\n",
    "            total += res[i][j]\n",
    "print(total)"
   ]
  },
  {
   "cell_type": "code",
   "execution_count": 105,
   "id": "c0b23caf",
   "metadata": {},
   "outputs": [
    {
     "name": "stdout",
     "output_type": "stream",
     "text": [
      "2\n",
      "6 7\n",
      "9 0\n",
      "6 9\n",
      "7 0\n"
     ]
    }
   ],
   "source": [
    "# Обход элементов матрицы - 1\n",
    "\n",
    "n = int(input())\n",
    "res = []\n",
    "for i in range(n):\n",
    "    n_list = list(map(int, input().split()))\n",
    "    res.append(n_list)\n",
    "res_2 = []\n",
    "for i in range(n):\n",
    "    b = []\n",
    "    for j in range(n):\n",
    "        b.append(res[j][i])\n",
    "    res_2.append(b)\n",
    "for elem in res_2:\n",
    "    print(*elem)       "
   ]
  },
  {
   "cell_type": "code",
   "execution_count": null,
   "id": "83d818d5",
   "metadata": {},
   "outputs": [],
   "source": []
  }
 ],
 "metadata": {
  "kernelspec": {
   "display_name": "Python 3 (ipykernel)",
   "language": "python",
   "name": "python3"
  },
  "language_info": {
   "codemirror_mode": {
    "name": "ipython",
    "version": 3
   },
   "file_extension": ".py",
   "mimetype": "text/x-python",
   "name": "python",
   "nbconvert_exporter": "python",
   "pygments_lexer": "ipython3",
   "version": "3.9.7"
  }
 },
 "nbformat": 4,
 "nbformat_minor": 5
}
