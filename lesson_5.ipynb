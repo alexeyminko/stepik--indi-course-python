{
 "cells": [
  {
   "cell_type": "markdown",
   "id": "838e5fab",
   "metadata": {},
   "source": [
    "# 5.1"
   ]
  },
  {
   "cell_type": "code",
   "execution_count": 2,
   "id": "9800d23b",
   "metadata": {},
   "outputs": [
    {
     "name": "stdout",
     "output_type": "stream",
     "text": [
      "[0, 1, 2, 3, 4, 5, 6, 7, 8, 9]\n"
     ]
    }
   ],
   "source": [
    "#\n",
    "\n",
    "print(list(range(10)))"
   ]
  },
  {
   "cell_type": "markdown",
   "id": "5e4aff48",
   "metadata": {},
   "source": [
    "# 5.2"
   ]
  },
  {
   "cell_type": "code",
   "execution_count": null,
   "id": "df79905f",
   "metadata": {},
   "outputs": [],
   "source": [
    "#\n",
    "\n",
    "n = int(input())\n",
    "for i in range(1, n + 1):\n",
    "    print(i)"
   ]
  },
  {
   "cell_type": "code",
   "execution_count": null,
   "id": "4c1d6766",
   "metadata": {},
   "outputs": [],
   "source": [
    "# Минутка сожаления\n",
    "\n",
    "for i in range(13):\n",
    "    print('Надо было брать биткоин в 2012!')"
   ]
  },
  {
   "cell_type": "code",
   "execution_count": null,
   "id": "ec2e9503",
   "metadata": {},
   "outputs": [],
   "source": [
    "# Повторение - мать учения \n",
    "\n",
    "string, n = input(), int(input())\n",
    "for i in range(n):\n",
    "    print(string)"
   ]
  },
  {
   "cell_type": "code",
   "execution_count": 1,
   "id": "d4384cfd",
   "metadata": {},
   "outputs": [
    {
     "name": "stdout",
     "output_type": "stream",
     "text": [
      "7\n",
      "15\n",
      "7\n",
      "8\n",
      "Fizz\n",
      "Buzz\n",
      "11\n",
      "Fizz\n",
      "13\n",
      "14\n",
      "FizzBuzz\n"
     ]
    }
   ],
   "source": [
    "# \n",
    "\n",
    "a, b = int(input()), int(input())\n",
    "for i in range(a, b + 1):\n",
    "    if i % 5 == 0 and i % 3 == 0:\n",
    "        print('FizzBuzz')\n",
    "    elif i % 5 == 0:\n",
    "        print('Buzz')\n",
    "    elif i % 3 == 0:\n",
    "        print('Fizz')\n",
    "    else:\n",
    "        print(i)    "
   ]
  },
  {
   "cell_type": "code",
   "execution_count": null,
   "id": "dc792241",
   "metadata": {},
   "outputs": [],
   "source": [
    "# Квадрат и куб\n",
    "\n",
    "a, b = int(input()), int(input())\n",
    "for i in range(a, b + 1):\n",
    "    print(f'Число {i}; его квадрат = {i**2}; его куб = {i**3}')"
   ]
  },
  {
   "cell_type": "code",
   "execution_count": null,
   "id": "67886e4d",
   "metadata": {},
   "outputs": [],
   "source": [
    "# Мишка и игра\n",
    "\n",
    "n = int(input())\n",
    "count_m = count_c = 0\n",
    "for i in range(n):\n",
    "    m, c = map(int, input().split())\n",
    "    if m > c:\n",
    "        count_m += 1\n",
    "    elif c > m:\n",
    "        count_c += 1\n",
    "if count_m > count_c:\n",
    "    print('Mishka')\n",
    "elif count_m < count_c:\n",
    "    print('Chris')\n",
    "else:\n",
    "    print('Friendship is magic!^^') "
   ]
  },
  {
   "cell_type": "code",
   "execution_count": null,
   "id": "4e444757",
   "metadata": {},
   "outputs": [],
   "source": [
    "#\n",
    "\n",
    "n = int(input())\n",
    "for i in range(1, n + 1):\n",
    "    string = input().lower()\n",
    "    if 'рок' in string:\n",
    "        print(i, string.find('рок') + 1)"
   ]
  },
  {
   "cell_type": "code",
   "execution_count": null,
   "id": "c30c3cb9",
   "metadata": {},
   "outputs": [],
   "source": [
    "n = int(input())\n",
    "res = []\n",
    "for i in range(1, n + 1):\n",
    "    string = input()\n",
    "    if 'соль' not in string:\n",
    "        res.append(string)\n",
    "print(*res, sep=',')"
   ]
  },
  {
   "cell_type": "code",
   "execution_count": 4,
   "id": "1e932ddd",
   "metadata": {},
   "outputs": [
    {
     "name": "stdout",
     "output_type": "stream",
     "text": [
      "9\n",
      "14\n"
     ]
    }
   ],
   "source": [
    "# Кратные 3 или 5\n",
    "\n",
    "n = int(input())\n",
    "print(sum([i for i in range(3, n) if i % 3 == 0 or i % 5 == 0]))   "
   ]
  },
  {
   "cell_type": "code",
   "execution_count": 5,
   "id": "30d63bd9",
   "metadata": {},
   "outputs": [
    {
     "name": "stdout",
     "output_type": "stream",
     "text": [
      "24001875\n"
     ]
    }
   ],
   "source": [
    "# \n",
    "\n",
    "print(sum([i**3 for i in range(50, 101)]))"
   ]
  },
  {
   "cell_type": "code",
   "execution_count": null,
   "id": "e3d9ffe8",
   "metadata": {},
   "outputs": [],
   "source": [
    "# Слишком длинные слова\n",
    "\n",
    "n = int(input())\n",
    "for i in range(n):\n",
    "    string = input()\n",
    "    if len(string) > 10:\n",
    "        print(string[0] + str(len(string) - 2) + string[-1])\n",
    "    else:\n",
    "        print(string)"
   ]
  },
  {
   "cell_type": "markdown",
   "id": "acafcc14",
   "metadata": {},
   "source": [
    "# 5.3"
   ]
  },
  {
   "cell_type": "code",
   "execution_count": 6,
   "id": "a493b104",
   "metadata": {},
   "outputs": [
    {
     "data": {
      "text/plain": [
       "227"
      ]
     },
     "execution_count": 6,
     "metadata": {},
     "output_type": "execute_result"
    }
   ],
   "source": [
    "# Заполняем список\n",
    "\n",
    "n = int(input())\n",
    "res = []\n",
    "for i in range(n):\n",
    "    res.append(input())\n",
    "print(res)"
   ]
  },
  {
   "cell_type": "code",
   "execution_count": null,
   "id": "7c08ff78",
   "metadata": {},
   "outputs": [],
   "source": [
    "#\n",
    "\n",
    "s, t_list = input(), list(input().split())\n",
    "for elem in t_list:\n",
    "    if s in elem.lower():\n",
    "        print(elem)"
   ]
  },
  {
   "cell_type": "code",
   "execution_count": 11,
   "id": "fcf49ebb",
   "metadata": {},
   "outputs": [
    {
     "name": "stdout",
     "output_type": "stream",
     "text": [
      "-4 -7 0 -19\n",
      "Empty\n"
     ]
    }
   ],
   "source": [
    "#\n",
    "\n",
    "n_list = list(map(int, input().split()))\n",
    "minimum = max(n_list)\n",
    "for elem in n_list:\n",
    "    if elem > 0 and elem < minimum:\n",
    "        minimum = elem\n",
    "print(minimum if minimum > 0 else 'Empty')"
   ]
  },
  {
   "cell_type": "code",
   "execution_count": 12,
   "id": "c8de17e0",
   "metadata": {},
   "outputs": [
    {
     "name": "stdout",
     "output_type": "stream",
     "text": [
      "sokol\n",
      "2\n"
     ]
    }
   ],
   "source": [
    "#\n",
    "\n",
    "string = input().lower()\n",
    "count_s = 0\n",
    "for i in string:\n",
    "    if string.count(i) > count_s:\n",
    "        count_s = string.count(i)\n",
    "print(count_s)"
   ]
  },
  {
   "cell_type": "code",
   "execution_count": 19,
   "id": "722fd278",
   "metadata": {},
   "outputs": [
    {
     "name": "stdout",
     "output_type": "stream",
     "text": [
      "1211\n",
      "NO\n"
     ]
    }
   ],
   "source": [
    "# Делимость на 11\n",
    "\n",
    "n = input()\n",
    "res_1 = sum([int(n[i]) for i in range(0, len(n), 2)])\n",
    "res_2 = sum([int(n[i]) for i in range(1, len(n), 2)])\n",
    "if abs(res_1 - res_2) % 11 == 0:\n",
    "    print('YES')\n",
    "else:\n",
    "    print('NO')"
   ]
  },
  {
   "cell_type": "code",
   "execution_count": 21,
   "id": "26d301ba",
   "metadata": {},
   "outputs": [
    {
     "name": "stdout",
     "output_type": "stream",
     "text": [
      "Europe cup 2021\n",
      "4 5\n"
     ]
    }
   ],
   "source": [
    "#  \n",
    "\n",
    "string = input()\n",
    "res = [int(i) for i in string if i.isdigit()]\n",
    "print(len(res), sum(res))"
   ]
  },
  {
   "cell_type": "code",
   "execution_count": 36,
   "id": "8038be29",
   "metadata": {},
   "outputs": [
    {
     "name": "stdout",
     "output_type": "stream",
     "text": [
      "\n",
      "YES\n"
     ]
    }
   ],
   "source": [
    "# Правильная скобочная последовательность\n",
    "\n",
    "string = input()\n",
    "s_dict = {'[':']', ']':'[', '(':')', ')':'(', '{':'}', '}':'{'}\n",
    "if len(string) > 0:\n",
    "    res = [s_dict[string[0]]]\n",
    "    for i in range(1, len(string)):\n",
    "        if len(res) > 0 and string[i] == res[-1]:\n",
    "            res.pop()\n",
    "        else:\n",
    "            res.append(s_dict[string[i]])\n",
    "    print('YES' if len(res) == 0 else 'NO')\n",
    "else: \n",
    "    print('YES')"
   ]
  },
  {
   "cell_type": "markdown",
   "id": "9d54419d",
   "metadata": {},
   "source": [
    "# 5.4"
   ]
  },
  {
   "cell_type": "code",
   "execution_count": 38,
   "id": "a6f12e22",
   "metadata": {},
   "outputs": [
    {
     "name": "stdout",
     "output_type": "stream",
     "text": [
      "11111\n",
      "1 5\n"
     ]
    }
   ],
   "source": [
    "#\n",
    "\n",
    "n = input()\n",
    "res = [0]*10\n",
    "for s in n:\n",
    "    res[int(s)] += 1\n",
    "for i in range(10):\n",
    "    if res[i] > 0:\n",
    "        print(i, res[i])"
   ]
  },
  {
   "cell_type": "code",
   "execution_count": 43,
   "id": "03b3cb4b",
   "metadata": {},
   "outputs": [
    {
     "name": "stdout",
     "output_type": "stream",
     "text": [
      "8\n",
      "66 -66 -48 -96 -17 -80 -57 -45\n",
      "-96 -80 -66 -57 -48 -45 -17 66 "
     ]
    }
   ],
   "source": [
    "# Сортировка подсчетом\n",
    "\n",
    "n, n_list = int(input()), list(map(int, input().split()))\n",
    "res = [0] * 201\n",
    "for elem in n_list:\n",
    "    res[elem + 100] += 1\n",
    "for i in range(201):\n",
    "    if res[i] > 0:\n",
    "        print((str(i - 100) + ' ') * res[i], end='')   "
   ]
  },
  {
   "cell_type": "markdown",
   "id": "19079d58",
   "metadata": {},
   "source": [
    "# QWE"
   ]
  },
  {
   "cell_type": "code",
   "execution_count": 44,
   "id": "860c4c50",
   "metadata": {},
   "outputs": [
    {
     "name": "stdout",
     "output_type": "stream",
     "text": [
      "0123456789abcdefghijklmnopqrstuvwxyzABCDEFGHIJKLMNOPQRSTUVWXYZ!\"#$%&'()*+,-./:;<=>?@[\\]^_`{|}~ \t\n",
      "\r",
      "\u000b",
      "\f",
      "\n"
     ]
    }
   ],
   "source": [
    "from string import printable\n",
    "print(printable)"
   ]
  },
  {
   "cell_type": "code",
   "execution_count": 46,
   "id": "6ad3e32f",
   "metadata": {},
   "outputs": [
    {
     "name": "stdout",
     "output_type": "stream",
     "text": [
      "1000000\n"
     ]
    }
   ],
   "source": [
    "count = 0\n",
    "for i in printable:\n",
    "    for j in printable:\n",
    "        for k in printable:\n",
    "            count += 1\n",
    "print(count)"
   ]
  },
  {
   "cell_type": "code",
   "execution_count": 56,
   "id": "0f470d2b",
   "metadata": {},
   "outputs": [
    {
     "name": "stdout",
     "output_type": "stream",
     "text": [
      "1 * 1 = 1|2 * 1 = 2|3 * 1 = 3|4 * 1 = 4|5 * 1 = 5|6 * 1 = 6|7 * 1 = 7|8 * 1 = 8|9 * 1 = 9|10 * 1 = 10|\n",
      "1 * 2 = 2|2 * 2 = 4|3 * 2 = 6|4 * 2 = 8|5 * 2 = 10|6 * 2 = 12|7 * 2 = 14|8 * 2 = 16|9 * 2 = 18|10 * 2 = 20|\n",
      "1 * 3 = 3|2 * 3 = 6|3 * 3 = 9|4 * 3 = 12|5 * 3 = 15|6 * 3 = 18|7 * 3 = 21|8 * 3 = 24|9 * 3 = 27|10 * 3 = 30|\n",
      "1 * 4 = 4|2 * 4 = 8|3 * 4 = 12|4 * 4 = 16|5 * 4 = 20|6 * 4 = 24|7 * 4 = 28|8 * 4 = 32|9 * 4 = 36|10 * 4 = 40|\n",
      "1 * 5 = 5|2 * 5 = 10|3 * 5 = 15|4 * 5 = 20|5 * 5 = 25|6 * 5 = 30|7 * 5 = 35|8 * 5 = 40|9 * 5 = 45|10 * 5 = 50|\n",
      "1 * 6 = 6|2 * 6 = 12|3 * 6 = 18|4 * 6 = 24|5 * 6 = 30|6 * 6 = 36|7 * 6 = 42|8 * 6 = 48|9 * 6 = 54|10 * 6 = 60|\n",
      "1 * 7 = 7|2 * 7 = 14|3 * 7 = 21|4 * 7 = 28|5 * 7 = 35|6 * 7 = 42|7 * 7 = 49|8 * 7 = 56|9 * 7 = 63|10 * 7 = 70|\n",
      "1 * 8 = 8|2 * 8 = 16|3 * 8 = 24|4 * 8 = 32|5 * 8 = 40|6 * 8 = 48|7 * 8 = 56|8 * 8 = 64|9 * 8 = 72|10 * 8 = 80|\n",
      "1 * 9 = 9|2 * 9 = 18|3 * 9 = 27|4 * 9 = 36|5 * 9 = 45|6 * 9 = 54|7 * 9 = 63|8 * 9 = 72|9 * 9 = 81|10 * 9 = 90|\n"
     ]
    }
   ],
   "source": [
    "for x in range(1, 10):\n",
    "    for y in range(1, 11):\n",
    "        print(y, '*', x, '=', x * y, end='|')\n",
    "    print()"
   ]
  },
  {
   "cell_type": "code",
   "execution_count": 61,
   "id": "c0743a4b",
   "metadata": {},
   "outputs": [
    {
     "name": "stdout",
     "output_type": "stream",
     "text": [
      "1944\n"
     ]
    }
   ],
   "source": [
    "count = 0\n",
    "res = []\n",
    "for s1 in 'tkv':\n",
    "    for s2 in 'tykva':\n",
    "        for s3 in 'tykva':\n",
    "            for s4 in 'tykva':\n",
    "                for s5 in 'tykva':\n",
    "                    for s6 in 'tkv':\n",
    "                        word = s1 + s2 + s3 + s4 + s5 + s6\n",
    "                        if word.count('y') + word.count('a') == 2:\n",
    "                            count += 1\n",
    "print(count)"
   ]
  },
  {
   "cell_type": "markdown",
   "id": "2c3a243e",
   "metadata": {},
   "source": [
    "# 5.5"
   ]
  },
  {
   "cell_type": "code",
   "execution_count": 65,
   "id": "afa14f57",
   "metadata": {},
   "outputs": [
    {
     "name": "stdout",
     "output_type": "stream",
     "text": [
      "3489675\n"
     ]
    }
   ],
   "source": [
    "#\n",
    "\n",
    "total = 0\n",
    "for i in range(1199, 9921):\n",
    "    s = 0\n",
    "    x = i\n",
    "    while x > 0:\n",
    "        s += x % 10\n",
    "        x //= 10\n",
    "    if s == 20:\n",
    "        total += i\n",
    "print(total)\n",
    "        "
   ]
  },
  {
   "cell_type": "code",
   "execution_count": 67,
   "id": "42084f1d",
   "metadata": {
    "scrolled": true
   },
   "outputs": [
    {
     "name": "stdout",
     "output_type": "stream",
     "text": [
      "3\n",
      "1 \n",
      "1 2 \n",
      "1 2 3 \n"
     ]
    }
   ],
   "source": [
    "#\n",
    "\n",
    "n = int(input())\n",
    "for i in range(1, n + 1):\n",
    "    for j in range(1, i + 1):\n",
    "        print(j, end=' ')\n",
    "    print()"
   ]
  },
  {
   "cell_type": "code",
   "execution_count": 83,
   "id": "a8405c70",
   "metadata": {},
   "outputs": [
    {
     "name": "stdout",
     "output_type": "stream",
     "text": [
      "1000\n",
      "135\n"
     ]
    }
   ],
   "source": [
    "# Постулат Бертрана\n",
    "\n",
    "count = 0\n",
    "n = int(input())\n",
    "for i in range(n + 1, 2 * n ):\n",
    "    dividers, x = 0, 2\n",
    "    while x**2 <= i:\n",
    "        if i % x == 0:\n",
    "            dividers += 1\n",
    "            break\n",
    "        x += 1\n",
    "    if dividers == 0:\n",
    "        count += 1\n",
    "print(count)"
   ]
  },
  {
   "cell_type": "code",
   "execution_count": 86,
   "id": "91b73948",
   "metadata": {},
   "outputs": [
    {
     "name": "stdout",
     "output_type": "stream",
     "text": [
      "4 20\n",
      "0\n"
     ]
    }
   ],
   "source": [
    "# Система уравнений\n",
    "\n",
    "n, m = map(int, input().split())\n",
    "count = 0\n",
    "for a in range(int(n**0.5) + 1):\n",
    "    for b in range(int(m**0.5) + 1):\n",
    "        if a**2 + b == n and a + b**2 == m:\n",
    "            count += 1\n",
    "print(count)"
   ]
  },
  {
   "cell_type": "code",
   "execution_count": 87,
   "id": "121043c3",
   "metadata": {},
   "outputs": [
    {
     "name": "stdout",
     "output_type": "stream",
     "text": [
      "3 7 1 10 8\n",
      "***\n",
      "*******\n",
      "*\n",
      "**********\n",
      "********\n"
     ]
    }
   ],
   "source": [
    "#\n",
    "\n",
    "n_list = list(map(int, input().split()))\n",
    "for n in n_list:\n",
    "    print('*' * n)"
   ]
  },
  {
   "cell_type": "code",
   "execution_count": 93,
   "id": "8b10e31a",
   "metadata": {},
   "outputs": [
    {
     "name": "stdout",
     "output_type": "stream",
     "text": [
      "3\n",
      "9 8 -4\n",
      "-4 8 9\n",
      "3\n"
     ]
    }
   ],
   "source": [
    "# Cортировкa пузырьком\n",
    "\n",
    "n, n_list = int(input()), list(map(int, input().split()))\n",
    "count = 0\n",
    "for i in range(n - 1):\n",
    "    for j in range(n - 1 - i):\n",
    "        if n_list[j] > n_list[j + 1]:\n",
    "            count += 1\n",
    "            n_list[j], n_list[j + 1] = n_list[j + 1], n_list[j]\n",
    "print(*n_list)\n",
    "print(count)"
   ]
  },
  {
   "cell_type": "code",
   "execution_count": 97,
   "id": "83298166",
   "metadata": {},
   "outputs": [
    {
     "name": "stdout",
     "output_type": "stream",
     "text": [
      "5\n",
      "11 2 8 1 5\n",
      "1 2 5 8 11\n"
     ]
    }
   ],
   "source": [
    "# Сортировка вставками\n",
    "\n",
    "n, n_list = int(input()), list(map(int, input().split()))\n",
    "for i in range(1, n):\n",
    "    while i > 0:\n",
    "        if n_list[i] < n_list[i - 1]:\n",
    "            n_list[i - 1], n_list[i] = n_list[i], n_list[i - 1]\n",
    "        i -= 1\n",
    "print(*n_list)"
   ]
  },
  {
   "cell_type": "markdown",
   "id": "6977e7b9",
   "metadata": {},
   "source": [
    "# 5.6"
   ]
  },
  {
   "cell_type": "code",
   "execution_count": 103,
   "id": "9f89fedf",
   "metadata": {},
   "outputs": [
    {
     "name": "stdout",
     "output_type": "stream",
     "text": [
      "3\n",
      "1 2 3\n",
      "4 5 6\n",
      "7 8 9\n",
      "15\n"
     ]
    }
   ],
   "source": [
    "#\n",
    "\n",
    "n = int(input())\n",
    "res = []\n",
    "for i in range(n):\n",
    "    n_list = list(map(int, input().split()))\n",
    "    res.append(n_list)\n",
    "total = 0\n",
    "for i in range(n):\n",
    "    for j in range(n):\n",
    "        if i == j:\n",
    "            total += res[i][j]\n",
    "print(total)"
   ]
  },
  {
   "cell_type": "code",
   "execution_count": 105,
   "id": "c0b23caf",
   "metadata": {},
   "outputs": [
    {
     "name": "stdout",
     "output_type": "stream",
     "text": [
      "2\n",
      "6 7\n",
      "9 0\n",
      "6 9\n",
      "7 0\n"
     ]
    }
   ],
   "source": [
    "# Обход элементов матрицы - 1\n",
    "\n",
    "n = int(input())\n",
    "res = []\n",
    "for i in range(n):\n",
    "    n_list = list(map(int, input().split()))\n",
    "    res.append(n_list)\n",
    "for i in range(n):\n",
    "    b = []\n",
    "    for j in range(n):\n",
    "        b.append(res[j][i])\n",
    "    print(*b)"
   ]
  },
  {
   "cell_type": "code",
   "execution_count": 1,
   "id": "83d818d5",
   "metadata": {},
   "outputs": [
    {
     "name": "stdout",
     "output_type": "stream",
     "text": [
      "5\n",
      "3 4 9 6 2\n",
      "8 2 0 5 1\n",
      "4 7 4 8 7\n",
      "7 1 3 3 8\n",
      "5 6 3 7 0\n",
      "0 8 7 1 2\n",
      "7 3 8 5 6\n",
      "3 3 4 0 9\n",
      "6 1 7 2 4\n",
      "5 7 4 8 3\n"
     ]
    }
   ],
   "source": [
    "# Обход элементов матрицы - 2\n",
    "\n",
    "n = int(input())\n",
    "res = []\n",
    "for i in range(n):\n",
    "    n_list = list(map(int, input().split()))\n",
    "    res.append(n_list)\n",
    "for i in range(n - 1, -1, -1):\n",
    "    b = []\n",
    "    for j in range(n - 1, -1, -1):\n",
    "        b.append(res[j][i])\n",
    "    print(*b) "
   ]
  },
  {
   "cell_type": "code",
   "execution_count": 3,
   "id": "60afa862",
   "metadata": {},
   "outputs": [
    {
     "name": "stdout",
     "output_type": "stream",
     "text": [
      "3 4\n",
      "5 9 2 6\n",
      "6 2 4 3\n",
      "1 2 8 7\n",
      "6 2 9 5\n",
      "3 4 2 6\n",
      "7 8 2 1\n"
     ]
    }
   ],
   "source": [
    "# Обход элементов матрицы - 3\n",
    "\n",
    "n, m = map(int, input().split())\n",
    "res = []\n",
    "for i in range(n):\n",
    "    n_list = list(map(int, input().split()))\n",
    "    res.append(n_list)\n",
    "for i in range(n):\n",
    "    b = []\n",
    "    for j in range(m - 1, -1, -1):\n",
    "        b.append(res[i][j])\n",
    "    print(*b) \n",
    "    \n",
    "# n, m = map(int, input().split())\n",
    "# res = []\n",
    "# for i in range(n):\n",
    "#     n_list = list(map(int, input().split()))\n",
    "#     res.append(n_list)\n",
    "# for elem in res:\n",
    "#     print(*elem[::-1])"
   ]
  },
  {
   "cell_type": "code",
   "execution_count": 5,
   "id": "7bdd71e0",
   "metadata": {},
   "outputs": [
    {
     "name": "stdout",
     "output_type": "stream",
     "text": [
      "3 4\n",
      "5 9 2 6\n",
      "6 2 4 3\n",
      "1 2 8 7\n",
      "1 2 8 7\n",
      "6 2 4 3\n",
      "5 9 2 6\n"
     ]
    }
   ],
   "source": [
    "# Обход элементов матрицы - 4\n",
    "\n",
    "n, m = map(int, input().split())\n",
    "res = []\n",
    "for i in range(n):\n",
    "    n_list = list(map(int, input().split()))\n",
    "    res.append(n_list)\n",
    "for i in range(n - 1, -1, -1):\n",
    "    b = []\n",
    "    for j in range(m):\n",
    "        b.append(res[i][j])\n",
    "    print(*b)\n",
    "    \n",
    "# n, m = map(int, input().split())\n",
    "# res = []\n",
    "# for i in range(n):\n",
    "#     n_list = list(map(int, input().split()))\n",
    "#     res.append(n_list)\n",
    "# for i in range(n - 1, -1, -1):\n",
    "#     print(*res[i])"
   ]
  },
  {
   "cell_type": "code",
   "execution_count": 8,
   "id": "4f09c290",
   "metadata": {},
   "outputs": [
    {
     "name": "stdout",
     "output_type": "stream",
     "text": [
      "0 0 1 0 0\n",
      "0 0 0 0 0\n",
      "0 0 0 0 0\n",
      "0 0 0 0 0\n",
      "0 0 0 0 0\n",
      "2\n"
     ]
    }
   ],
   "source": [
    "# A. Красивая матрица \n",
    "\n",
    "res = []\n",
    "for i in range(5):\n",
    "    n_list = list(map(int, input().split()))\n",
    "    res.append(n_list)\n",
    "for i in range(5):\n",
    "    for j in range(5):\n",
    "        if res[i][j] == 1:\n",
    "            a, b = i + 1, j + 1\n",
    "print(abs(3 - a) + abs(3 - b))"
   ]
  },
  {
   "cell_type": "code",
   "execution_count": 10,
   "id": "87e66812",
   "metadata": {},
   "outputs": [
    {
     "name": "stdout",
     "output_type": "stream",
     "text": [
      "3 4\n",
      "5 9 2 6\n",
      "6 2 4 3\n",
      "1 2 8 9\n",
      "22 15 20 \n",
      "12 13 14 18 "
     ]
    }
   ],
   "source": [
    "# Сумма строк и столбцов двумерного массива\n",
    "\n",
    "n, m = map(int, input().split())\n",
    "res = []\n",
    "for i in range(n):\n",
    "    n_list = list(map(int, input().split()))\n",
    "    res.append(n_list)\n",
    "for elem in res:\n",
    "    print(sum(elem), end=' ')\n",
    "print()\n",
    "for i in range(m):\n",
    "    b = []\n",
    "    for j in range(n):\n",
    "        b.append(res[j][i])\n",
    "    print(sum(b), end=' ')"
   ]
  },
  {
   "cell_type": "code",
   "execution_count": 12,
   "id": "8222379b",
   "metadata": {},
   "outputs": [
    {
     "name": "stdout",
     "output_type": "stream",
     "text": [
      "3\n",
      "0 0 0\n",
      "0 0 0\n",
      "1 0 0\n",
      "No\n"
     ]
    }
   ],
   "source": [
    "# Симметричная ли матрица? \n",
    "\n",
    "n = int(input())\n",
    "res = []\n",
    "found = 'Yes'\n",
    "for i in range(n):\n",
    "    n_list = list(map(int, input().split()))\n",
    "    res.append(n_list)\n",
    "for i in range(n):\n",
    "    for j in range(n):\n",
    "        if i != j:\n",
    "            if res[i][j] != res[j][i]:\n",
    "                found = 'No'\n",
    "                break\n",
    "print(found)"
   ]
  },
  {
   "cell_type": "code",
   "execution_count": 13,
   "id": "b4c4348f",
   "metadata": {},
   "outputs": [
    {
     "name": "stdout",
     "output_type": "stream",
     "text": [
      "2 2\n",
      "5 4\n",
      "3 5\n",
      "9\n",
      "0\n"
     ]
    }
   ],
   "source": [
    "# Состязания\n",
    "\n",
    "n, m = map(int, input().split())\n",
    "res = []\n",
    "for i in range(n):\n",
    "    n_list = list(map(int, input().split()))\n",
    "    res.append(n_list)\n",
    "total = num = 0\n",
    "for i in range(n):\n",
    "    if sum(res[i]) > total:\n",
    "        total, num = sum(res[i]), i\n",
    "print(total, num, sep='\\n')        "
   ]
  },
  {
   "cell_type": "code",
   "execution_count": 14,
   "id": "211bfe39",
   "metadata": {},
   "outputs": [
    {
     "name": "stdout",
     "output_type": "stream",
     "text": [
      "3 3\n",
      "3 1 2\n",
      "1 3 4\n",
      "3 3 3\n",
      "4\n",
      "1 2\n"
     ]
    }
   ],
   "source": [
    "# Состязания - 2\n",
    "\n",
    "n, m = map(int, input().split())\n",
    "res = []\n",
    "for i in range(n):\n",
    "    n_list = list(map(int, input().split()))\n",
    "    res.append(n_list)\n",
    "a = b = maximum = 0\n",
    "for i in range(n):\n",
    "    for j in range(m):\n",
    "        if res[i][j] > maximum:\n",
    "            maximum, a, b = res[i][j], i, j\n",
    "print(maximum)\n",
    "print(a, b)"
   ]
  },
  {
   "cell_type": "code",
   "execution_count": 20,
   "id": "7d527014",
   "metadata": {},
   "outputs": [
    {
     "name": "stdout",
     "output_type": "stream",
     "text": [
      "3 3\n",
      "6 2 7\n",
      "1 2 8\n",
      "1 3 8\n",
      "2\n"
     ]
    }
   ],
   "source": [
    "# Состязания - 3\n",
    "\n",
    "n, m = map(int, input().split())\n",
    "res = []\n",
    "for i in range(n):\n",
    "    n_list = list(map(int, input().split()))\n",
    "    res.append(n_list)\n",
    "b = []\n",
    "for i in range(n):\n",
    "    for j in range(m):\n",
    "        b.append(res[i][j])\n",
    "max_one = max(b)\n",
    "max_total = [0] * n\n",
    "for i in range(n):\n",
    "    if max_one in res[i]:\n",
    "        max_total[i] += sum(res[i])\n",
    "for i in range(n):\n",
    "    if max_total[i] == max(max_total):\n",
    "        print(i)\n",
    "        break    "
   ]
  },
  {
   "cell_type": "code",
   "execution_count": 22,
   "id": "521e79f1",
   "metadata": {},
   "outputs": [
    {
     "name": "stdout",
     "output_type": "stream",
     "text": [
      "4 3\n",
      "7 8 9\n",
      "9 3 10\n",
      "4 3 8\n",
      "5 6 7\n",
      "1\n"
     ]
    }
   ],
   "source": [
    "# Состязания - 4\n",
    "\n",
    "n, m = map(int, input().split())\n",
    "res = []\n",
    "for i in range(n):\n",
    "    n_list = list(map(int, input().split()))\n",
    "    res.append(n_list)\n",
    "b = []\n",
    "for i in range(n):\n",
    "    for j in range(m):\n",
    "        b.append(res[i][j])\n",
    "max_one = max(b)\n",
    "count = 0\n",
    "for i in range(n):\n",
    "    if max_one in res[i]:\n",
    "        count += 1\n",
    "print(count)"
   ]
  },
  {
   "cell_type": "code",
   "execution_count": 32,
   "id": "37cae4e3",
   "metadata": {},
   "outputs": [
    {
     "name": "stdout",
     "output_type": "stream",
     "text": [
      "bbwb\n",
      "bbwb\n",
      "wwbw\n",
      "bbwb\n",
      "No\n"
     ]
    }
   ],
   "source": [
    "# Симпатичный узор\n",
    "\n",
    "found = 'Yes'\n",
    "res = []\n",
    "for i in range(4):\n",
    "    string = input()\n",
    "    res.append([s for s in string])\n",
    "for i in range(1, 4):\n",
    "    for j in range(3):\n",
    "        if res[i][j + 1] == res[i][j] == res[i - 1][j] and res[i][j] == res[i - 1][j + 1]:\n",
    "            found = 'No'\n",
    "            break\n",
    "print(found)"
   ]
  },
  {
   "cell_type": "code",
   "execution_count": 33,
   "id": "afb3015b",
   "metadata": {},
   "outputs": [
    {
     "name": "stdout",
     "output_type": "stream",
     "text": [
      "3 4\n",
      "wbbw\n",
      "bbbb\n",
      "wbbw\n",
      "\n",
      "bwww\n",
      "wwwb\n",
      "bwwb\n",
      "2\n"
     ]
    }
   ],
   "source": [
    "# Миша и негатив\n",
    "\n",
    "n, m = map(int, input().split())\n",
    "res_1 = []\n",
    "for i in range(n):\n",
    "    string = input()\n",
    "    res_1.append([s for s in string])\n",
    "input()\n",
    "res_2 = []\n",
    "for i in range(n):\n",
    "    string = input()\n",
    "    res_2.append([s for s in string])\n",
    "count = 0\n",
    "for i in range(n):\n",
    "    for j in range(m):\n",
    "        if res_1[i][j] == res_2[i][j]:\n",
    "            count += 1\n",
    "print(count)"
   ]
  },
  {
   "cell_type": "code",
   "execution_count": 39,
   "id": "44f1d6a3",
   "metadata": {},
   "outputs": [
    {
     "name": "stdout",
     "output_type": "stream",
     "text": [
      "5 13\n",
      "0\n"
     ]
    }
   ],
   "source": [
    "# A. Таблица умножения\n",
    "\n",
    "n, x = map(int, input().split())\n",
    "res = []\n",
    "for i in range(n):\n",
    "    b = [0] * n\n",
    "    res.append(b)\n",
    "for i in range(n):\n",
    "    for j in range(n):\n",
    "        res[i][j] = (i + 1) * (j + 1)\n",
    "count = 0\n",
    "for i in range(n):\n",
    "    for j in range(n):\n",
    "        if res[i][j] == x:\n",
    "            count += 1\n",
    "print(count)"
   ]
  },
  {
   "cell_type": "markdown",
   "id": "490d719d",
   "metadata": {},
   "source": [
    "# 5.7"
   ]
  },
  {
   "cell_type": "code",
   "execution_count": 47,
   "id": "1e1ea875",
   "metadata": {},
   "outputs": [
    {
     "name": "stdout",
     "output_type": "stream",
     "text": [
      "2\n",
      "1 2\n",
      "1 2\n",
      "0\n"
     ]
    }
   ],
   "source": [
    "# A. Матчи\n",
    "\n",
    "n = int(input())\n",
    "res = []\n",
    "for i in range(n):\n",
    "    b = list(map(int, input().split()))\n",
    "    res.append(b)\n",
    "count = 0\n",
    "for i in range(n):\n",
    "    for j in range(n):\n",
    "        if res[i][0] == res[j][1]:\n",
    "            count += 1\n",
    "print(count)"
   ]
  },
  {
   "cell_type": "code",
   "execution_count": 62,
   "id": "21db57d5",
   "metadata": {},
   "outputs": [
    {
     "name": "stdout",
     "output_type": "stream",
     "text": [
      "4 3\n",
      "***\n",
      "...\n",
      "...\n",
      "***\n",
      ". . . . .\n",
      ". * * * .\n",
      ". . . . .\n",
      ". . . . .\n",
      ". * * * .\n",
      ". . . . .\n",
      "0\n"
     ]
    }
   ],
   "source": [
    "# Морской бой - 2\n",
    "\n",
    "n, m = map(int, input().split())\n",
    "res = [[s for s in '.' * (m + 2)]]\n",
    "for i in range(n):\n",
    "    string = '.' + input() + '.'\n",
    "    res.append([s for s in string])\n",
    "res.append([s for s in '.' * (m + 2)])\n",
    "count = 0\n",
    "for i in range(1, n + 1):\n",
    "    for j in range(1, m + 1):\n",
    "        if res[i][j] == '.':\n",
    "            if (res[i][j - 1] == '.' and res[i][j + 1] == '.') and (\n",
    "                res[i - 1][j] == '.' and res[i + 1][j] == '.'):\n",
    "                count += 1\n",
    "print(count)"
   ]
  },
  {
   "cell_type": "code",
   "execution_count": 73,
   "id": "287348b5",
   "metadata": {},
   "outputs": [
    {
     "name": "stdout",
     "output_type": "stream",
     "text": [
      "3 8\n",
      "0  1  2  3  4  5  6  7 \n",
      "15 14 13 12 11 10 9  8 \n",
      "16 17 18 19 20 21 22 23\n"
     ]
    }
   ],
   "source": [
    "# Заполнение змейкой\n",
    "\n",
    "n, m = map(int, input().split())\n",
    "res = []\n",
    "for i in range(n):\n",
    "    b = [0] * m\n",
    "    res.append(b)\n",
    "num = 0\n",
    "for i in range(0, n, 2):\n",
    "    for j in range(m):\n",
    "        res[i][j] = str(res[i][j] + num).ljust(2)\n",
    "        num += 1\n",
    "    num += m\n",
    "num = int(res[0][-1]) + 1\n",
    "for i in range(1, n, 2):\n",
    "    for j in range(m - 1, -1, -1):\n",
    "        res[i][j] = str(res[i][j] + num).ljust(2)\n",
    "        num += 1\n",
    "    num += m\n",
    "for elem in res:\n",
    "    print(*elem)    "
   ]
  },
  {
   "cell_type": "code",
   "execution_count": 76,
   "id": "1ae7da82",
   "metadata": {},
   "outputs": [
    {
     "name": "stdout",
     "output_type": "stream",
     "text": [
      "1 1\n",
      "W\n",
      "#Black&White\n"
     ]
    }
   ],
   "source": [
    "# A. Фотографии Брейна\n",
    "\n",
    "n, m = map(int, input().split())\n",
    "res = []\n",
    "for i in range(n):\n",
    "    res.append(list(input().split()))\n",
    "found = '#Black&White'\n",
    "for elem in res:\n",
    "    if elem.count('W') + elem.count('G') + elem.count('B') != len(elem):\n",
    "        found = '#Color'\n",
    "        break\n",
    "print(found)"
   ]
  },
  {
   "cell_type": "code",
   "execution_count": 4,
   "id": "f1923c09",
   "metadata": {},
   "outputs": [
    {
     "name": "stdout",
     "output_type": "stream",
     "text": [
      "23\n",
      "1    2    3    4    5    6    7    8    9    10   11   12   13   14   15   16   17   18   19   20   21   22   23  \n",
      "\n",
      "88   89   90   91   92   93   94   95   96   97   98   99   100  101  102  103  104  105  106  107  108  109  24  \n",
      "\n",
      "87   168  169  170  171  172  173  174  175  176  177  178  179  180  181  182  183  184  185  186  187  110  25  \n",
      "\n",
      "86   167  240  241  242  243  244  245  246  247  248  249  250  251  252  253  254  255  256  257  188  111  26  \n",
      "\n",
      "85   166  239  304  305  306  307  308  309  310  311  312  313  314  315  316  317  318  319  258  189  112  27  \n",
      "\n",
      "84   165  238  303  360  361  362  363  364  365  366  367  368  369  370  371  372  373  320  259  190  113  28  \n",
      "\n",
      "83   164  237  302  359  408  409  410  411  412  413  414  415  416  417  418  419  374  321  260  191  114  29  \n",
      "\n",
      "82   163  236  301  358  407  448  449  450  451  452  453  454  455  456  457  420  375  322  261  192  115  30  \n",
      "\n",
      "81   162  235  300  357  406  447  480  481  482  483  484  485  486  487  458  421  376  323  262  193  116  31  \n",
      "\n",
      "80   161  234  299  356  405  446  479  504  505  506  507  508  509  488  459  422  377  324  263  194  117  32  \n",
      "\n",
      "79   160  233  298  355  404  445  478  503  520  521  522  523  510  489  460  423  378  325  264  195  118  33  \n",
      "\n",
      "78   159  232  297  354  403  444  477  502  519  528  529  524  511  490  461  424  379  326  265  196  119  34  \n",
      "\n",
      "77   158  231  296  353  402  443  476  501  518  527  526  525  512  491  462  425  380  327  266  197  120  35  \n",
      "\n",
      "76   157  230  295  352  401  442  475  500  517  516  515  514  513  492  463  426  381  328  267  198  121  36  \n",
      "\n",
      "75   156  229  294  351  400  441  474  499  498  497  496  495  494  493  464  427  382  329  268  199  122  37  \n",
      "\n",
      "74   155  228  293  350  399  440  473  472  471  470  469  468  467  466  465  428  383  330  269  200  123  38  \n",
      "\n",
      "73   154  227  292  349  398  439  438  437  436  435  434  433  432  431  430  429  384  331  270  201  124  39  \n",
      "\n",
      "72   153  226  291  348  397  396  395  394  393  392  391  390  389  388  387  386  385  332  271  202  125  40  \n",
      "\n",
      "71   152  225  290  347  346  345  344  343  342  341  340  339  338  337  336  335  334  333  272  203  126  41  \n",
      "\n",
      "70   151  224  289  288  287  286  285  284  283  282  281  280  279  278  277  276  275  274  273  204  127  42  \n",
      "\n",
      "69   150  223  222  221  220  219  218  217  216  215  214  213  212  211  210  209  208  207  206  205  128  43  \n",
      "\n",
      "68   149  148  147  146  145  144  143  142  141  140  139  138  137  136  135  134  133  132  131  130  129  44  \n",
      "\n",
      "67   66   65   64   63   62   61   60   59   58   57   56   55   54   53   52   51   50   49   48   47   46   45  \n",
      "\n"
     ]
    }
   ],
   "source": [
    "# Спираль\n",
    "\n",
    "from math import ceil\n",
    "\n",
    "n = int(input())\n",
    "number = n\n",
    "num = 1\n",
    "h = 0 \n",
    "\n",
    "res = []\n",
    "for i in range(n):\n",
    "    res.append([0] * n)\n",
    "\n",
    "for h in range(ceil(n / 2)):\n",
    "    for j in range(h, n):\n",
    "        res[h][j] += num\n",
    "        num += 1\n",
    "    for j in range(h + 1, n):\n",
    "        res[j][n - 1] += num\n",
    "        num += 1\n",
    "    for j in range(n - 2, h - 1, -1):\n",
    "        res[n - 1][j] += num\n",
    "        num += 1\n",
    "    for j in range(n - 2, h, -1):\n",
    "        res[j][h] += num\n",
    "        num += 1\n",
    "    n -= 1\n",
    "           \n",
    "for i in range(number):\n",
    "    for j in range(number):\n",
    "        res[i][j] = str(res[i][j]).ljust(4)\n",
    "for elem in res:\n",
    "    print(*elem)\n",
    "    print()"
   ]
  },
  {
   "cell_type": "code",
   "execution_count": 183,
   "id": "aa046530",
   "metadata": {},
   "outputs": [
    {
     "name": "stdout",
     "output_type": "stream",
     "text": [
      "3 4\n",
      "S...\n",
      "....\n",
      "..S.\n",
      "8\n"
     ]
    }
   ],
   "source": [
    "# A. Тортминатор\n",
    "\n",
    "r, c = map(int, input().split())\n",
    "cake = []\n",
    "count = 0\n",
    "for i in range(r):\n",
    "    string = input()\n",
    "    cake.append([s for s in string])\n",
    "\n",
    "cake_2 = []\n",
    "for elem in cake:\n",
    "    if 'S' not in elem:\n",
    "        count += c\n",
    "        elem = [0] * c\n",
    "    cake_2.append(elem)\n",
    "    \n",
    "for i in range(c):\n",
    "    b = []\n",
    "    for j in range(r):\n",
    "        b.append(cake_2[j][i])\n",
    "    if 'S' not in b:\n",
    "        count += b.count('.')\n",
    "\n",
    "print(count)"
   ]
  },
  {
   "cell_type": "markdown",
   "id": "7d53994c",
   "metadata": {},
   "source": [
    "# 5.8"
   ]
  },
  {
   "cell_type": "code",
   "execution_count": 44,
   "id": "7e892455",
   "metadata": {},
   "outputs": [
    {
     "name": "stdout",
     "output_type": "stream",
     "text": [
      "10\n",
      "1     \n",
      "2     1     \n",
      "3     3     1     \n",
      "4     6     4     1     \n",
      "5     10    10    5     1     \n",
      "6     15    20    15    6     1     \n",
      "7     21    35    35    21    7     1     \n",
      "8     28    56    70    56    28    8     1     \n",
      "9     36    84    126   126   84    36    9     1     \n",
      "10    45    120   210   252   210   120   45    10    1     \n"
     ]
    }
   ],
   "source": [
    "# Треугольник Паскаля\n",
    "\n",
    "n = int(input()) + 1\n",
    "triangle = [[1] + [0] * (n - 1) for i in range(n)]\n",
    "    \n",
    "for i in range(1, n):\n",
    "    for j in range(1, i + 1):\n",
    "        triangle[i][j] = triangle[i - 1][j] + triangle[i - 1][j - 1]  \n",
    "            \n",
    "for i in range(n):\n",
    "    for j in range(n):\n",
    "        triangle[i][j] = str(triangle[i][j]).ljust(5)\n",
    "        \n",
    "for i in range(1, n):\n",
    "    for j in range(1, i + 1):\n",
    "        print(triangle[i][j], end=' ')\n",
    "    print()"
   ]
  },
  {
   "cell_type": "markdown",
   "id": "96f180b9",
   "metadata": {},
   "source": [
    "# 5.9"
   ]
  },
  {
   "cell_type": "code",
   "execution_count": 47,
   "id": "23b30bdb",
   "metadata": {},
   "outputs": [
    {
     "name": "stdout",
     "output_type": "stream",
     "text": [
      "[0, 0, 0, 0, 0, 0, 0, 0, 0, 0, 0, 0, 0, 0, 0, 0, 0, 0, 0, 0, 0, 0, 0, 0, 0, 0, 0, 0, 0, 0, 0, 0, 0, 0, 0, 0, 0, 0, 0, 0, 0, 0, 0, 0, 0, 0, 0, 0, 0, 0, 0, 0, 0, 0, 0, 0, 0, 0, 0, 0, 0, 0, 0, 0, 0, 0, 0, 0, 0, 0, 0, 0, 0, 0, 0, 0, 0, 0, 0, 0, 0, 0, 0, 0, 0, 0, 0, 0, 0, 0, 0, 0, 0, 0, 0, 0, 0, 0, 0, 0]\n"
     ]
    }
   ],
   "source": [
    "#\n",
    "\n",
    "zeros = [0 for i in range(100)]\n",
    "print(zeros)"
   ]
  },
  {
   "cell_type": "code",
   "execution_count": 48,
   "id": "61ea8b53",
   "metadata": {},
   "outputs": [
    {
     "name": "stdout",
     "output_type": "stream",
     "text": [
      "2\n",
      "[1, 2]\n"
     ]
    }
   ],
   "source": [
    "#\n",
    "\n",
    "res = [i for i in range(1, int(input()) + 1)]\n",
    "print(res)"
   ]
  },
  {
   "cell_type": "code",
   "execution_count": 49,
   "id": "978a84d0",
   "metadata": {},
   "outputs": [
    {
     "name": "stdout",
     "output_type": "stream",
     "text": [
      "4\n",
      "[1, 2, 4]\n"
     ]
    }
   ],
   "source": [
    "#\n",
    "\n",
    "n = int(input())\n",
    "res = [i for i in range(1, n + 1) if n % i == 0]\n",
    "print(res)"
   ]
  },
  {
   "cell_type": "code",
   "execution_count": 50,
   "id": "a33ccd10",
   "metadata": {},
   "outputs": [
    {
     "name": "stdout",
     "output_type": "stream",
     "text": [
      "7\n",
      "[7, 9, 11, 13, 15, 17, 19, 21, 23, 25, 27, 29, 31, 33, 35, 37, 39, 41, 43, 45, 47, 49]\n"
     ]
    }
   ],
   "source": [
    "#\n",
    "\n",
    "n = int(input())\n",
    "res = [i for i in range(n, n**2 + 1) if i % 2 == 1]\n",
    "print(res)"
   ]
  },
  {
   "cell_type": "code",
   "execution_count": null,
   "id": "46e3a97d",
   "metadata": {},
   "outputs": [],
   "source": [
    "#\n",
    "\n",
    "a, b = map(int, input().split())\n",
    "if a <= b:\n",
    "    res = [i**2 for i in range(a, b + 1)]\n",
    "    print(res)\n",
    "else:\n",
    "    res = [i**3 for i in range(a, b - 1, -1)]\n",
    "    print(res)\n",
    "    "
   ]
  },
  {
   "cell_type": "code",
   "execution_count": 51,
   "id": "f7f3b931",
   "metadata": {},
   "outputs": [
    {
     "name": "stdout",
     "output_type": "stream",
     "text": [
      "['C', 'a', 'l', 'o', 't', 'f', 'l', 'o', 'e', 'w', 'i', 't', 's']\n"
     ]
    }
   ],
   "source": [
    "#\n",
    "\n",
    "st = 'Create a list of the first letters of every word in this string'\n",
    "res = [word[0] for word in st.split()]\n",
    "print(res)"
   ]
  },
  {
   "cell_type": "code",
   "execution_count": 54,
   "id": "827aac7a",
   "metadata": {},
   "outputs": [
    {
     "name": "stdout",
     "output_type": "stream",
     "text": [
      "ABCDEFGHIJKLMNOPQRSTUVWXYZ\n",
      "4\n",
      "['A', 'B', 'C', 'D']\n"
     ]
    }
   ],
   "source": [
    "#\n",
    "\n",
    "from string import ascii_uppercase\n",
    "\n",
    "n = int(input())\n",
    "res = [ascii_uppercase[i] for i in range(n)]\n",
    "print(res)"
   ]
  },
  {
   "cell_type": "code",
   "execution_count": 55,
   "id": "beb60d63",
   "metadata": {},
   "outputs": [
    {
     "name": "stdout",
     "output_type": "stream",
     "text": [
      "4\n",
      "['A', 'BB', 'CCC', 'DDDD']\n"
     ]
    }
   ],
   "source": [
    "#\n",
    "\n",
    "from string import ascii_uppercase\n",
    "\n",
    "n = int(input())\n",
    "res = [ascii_uppercase[i] * (i + 1) for i in range(n)]\n",
    "print(res)"
   ]
  },
  {
   "cell_type": "code",
   "execution_count": 56,
   "id": "5c268215",
   "metadata": {},
   "outputs": [
    {
     "name": "stdout",
     "output_type": "stream",
     "text": [
      "['Take', 'the', 'that', 't', 'this']\n"
     ]
    }
   ],
   "source": [
    "#\n",
    "\n",
    "phrase = 'Take only the words that start with t in this sentence'\n",
    "res = [word for word in phrase.split() if word[0] in 'tT']\n",
    "print(res)"
   ]
  },
  {
   "cell_type": "markdown",
   "id": "aba229d9",
   "metadata": {},
   "source": [
    "# 5.10"
   ]
  },
  {
   "cell_type": "code",
   "execution_count": 71,
   "id": "de1f0f8b",
   "metadata": {},
   "outputs": [
    {
     "name": "stdout",
     "output_type": "stream",
     "text": [
      "1 2 3 4 5 6 7 8 9 10 11 12 13 14 15 16 17 18\n"
     ]
    }
   ],
   "source": [
    "#\n",
    "\n",
    "vector = [[1, 2, 3], [4, 5, 6], [7, 8, 9], [10, 11, 12], [13, 14, 15], [16, 17, 18]]\n",
    "res = [j for i in vector for j in i]\n",
    "print(*res)"
   ]
  }
 ],
 "metadata": {
  "kernelspec": {
   "display_name": "Python 3 (ipykernel)",
   "language": "python",
   "name": "python3"
  },
  "language_info": {
   "codemirror_mode": {
    "name": "ipython",
    "version": 3
   },
   "file_extension": ".py",
   "mimetype": "text/x-python",
   "name": "python",
   "nbconvert_exporter": "python",
   "pygments_lexer": "ipython3",
   "version": "3.9.7"
  }
 },
 "nbformat": 4,
 "nbformat_minor": 5
}
