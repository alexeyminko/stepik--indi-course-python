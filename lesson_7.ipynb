{
 "cells": [
  {
   "cell_type": "markdown",
   "id": "48e59cae",
   "metadata": {},
   "source": [
    "# 7.1"
   ]
  },
  {
   "cell_type": "code",
   "execution_count": 1,
   "id": "277a966b",
   "metadata": {},
   "outputs": [],
   "source": [
    "#\n",
    "\n",
    "def keanu_reeves():\n",
    "    print(\"YOU'RE BREATHTAKING\")"
   ]
  },
  {
   "cell_type": "code",
   "execution_count": 5,
   "id": "24935920",
   "metadata": {},
   "outputs": [],
   "source": [
    "#\n",
    "\n",
    "def summa_n(t):\n",
    "    total = 0\n",
    "    for i in range(1, t + 1):\n",
    "        total += i\n",
    "    print(f'Я знаю, что сумма чисел от 1 до {t} равна {total}')"
   ]
  },
  {
   "cell_type": "code",
   "execution_count": 22,
   "id": "2d2cb6fa",
   "metadata": {},
   "outputs": [],
   "source": [
    "#\n",
    "\n",
    "def check_password(password):\n",
    "    count = 0\n",
    "    if len([s for s in password if s.isdigit()]) > 2:\n",
    "        count += 1\n",
    "    if len([s for s in password if s.isupper()]) > 0:\n",
    "        count += 1\n",
    "    if len([s for s in password if s in '!@#$%*']) > 0:\n",
    "        count += 1\n",
    "    if len(password) > 9:\n",
    "        count += 1\n",
    "    print('Perfect password' if count == 4 else 'Easy peasy')  "
   ]
  },
  {
   "cell_type": "code",
   "execution_count": 24,
   "id": "1613b8a9",
   "metadata": {},
   "outputs": [],
   "source": [
    "# \n",
    "\n",
    "def count_letters(string):\n",
    "    res_up = len([s for s in string if s.isupper()])\n",
    "    res_lo = len([s for s in string if s.islower()])\n",
    "    print(f'Количество заглавных символов: {res_up}')\n",
    "    print(f'Количество строчных символов: {res_lo}')   "
   ]
  },
  {
   "cell_type": "markdown",
   "id": "6dcbf030",
   "metadata": {},
   "source": [
    "# 7.2"
   ]
  },
  {
   "cell_type": "code",
   "execution_count": 232,
   "id": "511a3fd6",
   "metadata": {},
   "outputs": [],
   "source": [
    "#\n",
    "\n",
    "import turtle\n",
    "\n",
    "turtle.speed(5)\n",
    "\n",
    "def move_turtle(a, b):\n",
    "    turtle.forward(a)\n",
    "    turtle.left(90)\n",
    "    turtle.forward(b)\n",
    "    turtle.left(90)\n",
    "    \n",
    "def draw_rectangle(a, b):\n",
    "    for i in range(2):\n",
    "        move_turtle(a, b)\n",
    "        \n",
    "def draw_rectangle_color(a, b, color):\n",
    "    turtle.color(color)\n",
    "    turtle.begin_fill()\n",
    "    draw_rectangle(a, b)\n",
    "    turtle.end_fill()\n",
    "    \n",
    "draw_rectangle_color(400, 100, 'blue')\n",
    "turtle.goto(0, 100)\n",
    "draw_rectangle_color(400, 100, 'yellow')\n",
    "turtle.goto(400, 200)\n",
    "draw_rectangle_color(400, 100, 'floralwhite')\n",
    "turtle.goto(400, 300)\n",
    "draw_rectangle_color(400, 100, 'red')\n",
    "turtle.goto(400, 400)\n",
    "draw_rectangle_color(400, 100, 'floralwhite')\n"
   ]
  },
  {
   "cell_type": "code",
   "execution_count": 112,
   "id": "e17c1f3d",
   "metadata": {},
   "outputs": [],
   "source": [
    "#\n",
    "\n",
    "def repeat_please_n_times(n):\n",
    "    for i in range(n):\n",
    "        print('Just do it')   "
   ]
  },
  {
   "cell_type": "code",
   "execution_count": 98,
   "id": "f0cd56ef",
   "metadata": {},
   "outputs": [],
   "source": [
    "#\n",
    "\n",
    "def print_initials(name, surname, middlename):\n",
    "    name, surname, middlename = name.title(), surname.title(), middlename.title()\n",
    "    print(f'{surname} {name[0]}.{middlename[0]}.')"
   ]
  },
  {
   "cell_type": "markdown",
   "id": "51a43fe5",
   "metadata": {},
   "source": [
    "# 7.3"
   ]
  },
  {
   "cell_type": "code",
   "execution_count": 138,
   "id": "e3cbeffd",
   "metadata": {},
   "outputs": [],
   "source": [
    "#\n",
    "\n",
    "def factorial(n):\n",
    "    res = 1\n",
    "    for i in range(2, n + 1):\n",
    "        res *= i\n",
    "    return res"
   ]
  },
  {
   "cell_type": "code",
   "execution_count": 142,
   "id": "b702d5a3",
   "metadata": {},
   "outputs": [
    {
     "name": "stdout",
     "output_type": "stream",
     "text": [
      "4\n",
      "24\n",
      "60\n",
      "48\n",
      "12\n",
      "12\n"
     ]
    }
   ],
   "source": [
    "# Снова НОД\n",
    "\n",
    "def gcd(a, b):\n",
    "    while b > 0:\n",
    "        a, b = b, a%b\n",
    "    return a\n",
    "n = int(input())\n",
    "res = []\n",
    "a, b = int(input()), int(input())\n",
    "for i in range(n - 2):\n",
    "    a = gcd(a, b)\n",
    "    b = int(input())\n",
    "print(a)"
   ]
  },
  {
   "cell_type": "code",
   "execution_count": 143,
   "id": "2185e164",
   "metadata": {},
   "outputs": [],
   "source": [
    "#\n",
    "\n",
    "def find_duplicate(num_list):\n",
    "    num_list = [i for i in num_list if num_list.count(i) > 1]\n",
    "    res = []\n",
    "    for i in num_list:\n",
    "        if i not in res:\n",
    "            res.append(i)\n",
    "    return res    "
   ]
  },
  {
   "cell_type": "code",
   "execution_count": 146,
   "id": "8a3ff754",
   "metadata": {},
   "outputs": [],
   "source": [
    "#\n",
    "\n",
    "def first_unique_char(string):\n",
    "    for s in string:\n",
    "        if string.count(s) == 1:\n",
    "            return string.find(s)\n",
    "    return -1"
   ]
  },
  {
   "cell_type": "code",
   "execution_count": 186,
   "id": "6989cb30",
   "metadata": {},
   "outputs": [],
   "source": [
    "#\n",
    "\n",
    "def format_namelist(l_dict):\n",
    "    n = len(l_dict)\n",
    "    string = ''\n",
    "    if n == 1:\n",
    "        string += l_dict[0]['name']\n",
    "    elif n > 1:\n",
    "        for i in range(n - 2):\n",
    "            string += l_dict[i]['name'] + ', '\n",
    "        string += l_dict[-2]['name'] + ' и ' + l_dict[-1]['name']\n",
    "    return string   "
   ]
  },
  {
   "cell_type": "code",
   "execution_count": 198,
   "id": "ddac46f0",
   "metadata": {},
   "outputs": [],
   "source": [
    "#\n",
    "\n",
    "def domain_name(url):\n",
    "    url = url.strip('https//:.www').split('.')[0]\n",
    "    return url"
   ]
  },
  {
   "cell_type": "code",
   "execution_count": 225,
   "id": "225d1282",
   "metadata": {},
   "outputs": [],
   "source": [
    "# Сколько нулей на конце факториала N!\n",
    "\n",
    "def factorial(n: int) -> int:\n",
    "    \"\"\"My function\"\"\"\n",
    "    res = 1\n",
    "    for i in range(2, n + 1):\n",
    "        res *= i\n",
    "    return res\n",
    "\n",
    "def trailing_zeros(n):\n",
    "    num = str(factorial(n))\n",
    "    a, num = len(num), num.rstrip('0')\n",
    "    b = len(num)\n",
    "    return a - b"
   ]
  },
  {
   "cell_type": "markdown",
   "id": "a2bd2bf5",
   "metadata": {},
   "source": [
    "# 7.4"
   ]
  },
  {
   "cell_type": "markdown",
   "id": "e0e4fd85",
   "metadata": {},
   "source": [
    "# 7.5"
   ]
  },
  {
   "cell_type": "markdown",
   "id": "3b3e54d4",
   "metadata": {},
   "source": [
    "# 7.6"
   ]
  },
  {
   "cell_type": "code",
   "execution_count": 228,
   "id": "62cf43e3",
   "metadata": {},
   "outputs": [],
   "source": [
    "#\n",
    "\n",
    "MIN_DRIVING_AGE = 18\n",
    "def allowed_driving(name, age):\n",
    "    print(f'{name} еще рано садиться за руль' if age < MIN_DRIVING_AGE else f'{name} может водить')"
   ]
  },
  {
   "cell_type": "markdown",
   "id": "0e94c136",
   "metadata": {},
   "source": [
    "# 7.7"
   ]
  },
  {
   "cell_type": "markdown",
   "id": "10cd3522",
   "metadata": {},
   "source": [
    "# 7.8"
   ]
  },
  {
   "cell_type": "code",
   "execution_count": 1,
   "id": "96687b4f",
   "metadata": {},
   "outputs": [],
   "source": [
    "#\n",
    "\n",
    "def count_args(*args):\n",
    "    return len(args)"
   ]
  },
  {
   "cell_type": "code",
   "execution_count": 6,
   "id": "3dcc600b",
   "metadata": {},
   "outputs": [],
   "source": [
    "#\n",
    "\n",
    "def print_goods(*args):\n",
    "    i = 1\n",
    "    for elem in args:\n",
    "        if type(elem) == str and len(elem) > 0:\n",
    "            print(f'{i}. {elem}')\n",
    "            i += 1\n",
    "    if i == 1:\n",
    "        print('Нет товаров')"
   ]
  },
  {
   "cell_type": "code",
   "execution_count": 10,
   "id": "7d035749",
   "metadata": {},
   "outputs": [],
   "source": [
    "#\n",
    "\n",
    "def info_kwargs(**kwargs):\n",
    "    for k, v in sorted(kwargs.items()):\n",
    "        print(f'{k} = {v}')"
   ]
  },
  {
   "cell_type": "markdown",
   "id": "51a2cec4",
   "metadata": {},
   "source": [
    "# 7.9"
   ]
  },
  {
   "cell_type": "code",
   "execution_count": 12,
   "id": "53d8b0a9",
   "metadata": {},
   "outputs": [
    {
     "name": "stdout",
     "output_type": "stream",
     "text": [
      "3\n",
      "1 2 3\n",
      "3 2 1\n"
     ]
    }
   ],
   "source": [
    "#\n",
    "\n",
    "n, num_list = int(input()), list(map(int, input().split()))\n",
    "print(*num_list[::-1])"
   ]
  },
  {
   "cell_type": "code",
   "execution_count": 16,
   "id": "a346fa46",
   "metadata": {},
   "outputs": [
    {
     "name": "stdout",
     "output_type": "stream",
     "text": [
      "10\n",
      "55\n"
     ]
    }
   ],
   "source": [
    "#\n",
    "\n",
    "def fib(n):\n",
    "    if n == 2:\n",
    "        return 1\n",
    "    elif n <= 1:\n",
    "        return 0\n",
    "    return fib(n - 1) + fib(n - 2)\n",
    "\n",
    "n = int(input()) + 1\n",
    "print(fib(n))"
   ]
  },
  {
   "cell_type": "code",
   "execution_count": 51,
   "id": "1b99aed5",
   "metadata": {},
   "outputs": [],
   "source": [
    "#\n",
    "\n",
    "def list_sum_recursive(args):\n",
    "    if len(args) == 1:\n",
    "        return args[0]\n",
    "    return list_sum_recursive(args[1:]) + args[0]    "
   ]
  },
  {
   "cell_type": "code",
   "execution_count": 191,
   "id": "d3c5bd96",
   "metadata": {},
   "outputs": [],
   "source": [
    "#\n",
    "\n",
    "def flatten(spisok):\n",
    "    res = []\n",
    "    for elem in spisok:\n",
    "        if isinstance(elem, list):\n",
    "            res += flatten(elem)\n",
    "        else:\n",
    "            res.append(elem)\n",
    "    return res  "
   ]
  },
  {
   "cell_type": "markdown",
   "id": "334761ee",
   "metadata": {},
   "source": [
    "# 7.10"
   ]
  },
  {
   "cell_type": "code",
   "execution_count": 6,
   "id": "3418d69c",
   "metadata": {},
   "outputs": [],
   "source": [
    "# Сортировка слиянием\n",
    "\n",
    "def merge_two_list(a, b):\n",
    "    i = j = 0\n",
    "    n, m = len(a), len(b)\n",
    "    c = []\n",
    "    while i < n and j < m:\n",
    "        if a[i] < b[j]:\n",
    "            c.append(a[i])\n",
    "            i += 1\n",
    "        else:\n",
    "            c.append(b[j])\n",
    "            j += 1\n",
    "    if i < n:\n",
    "        c += a[i:]\n",
    "    else:\n",
    "        c += b[j:]\n",
    "    return c\n",
    "\n",
    "def merge_sort(s):\n",
    "    if len(s) == 1:\n",
    "        return s\n",
    "    mid = len(s) // 2\n",
    "    left = merge_sort(s[:mid])\n",
    "    right = merge_sort(s[mid:])\n",
    "    return merge_two_list(left, right)"
   ]
  },
  {
   "cell_type": "code",
   "execution_count": 3,
   "id": "52f44ba6",
   "metadata": {},
   "outputs": [],
   "source": [
    "# Быстрая сортировка\n",
    "\n",
    "def quick_sort(s):\n",
    "    if len(s) < 2:\n",
    "        return s\n",
    "    mid = s[len(s) // 2]\n",
    "    low = []\n",
    "    high = []\n",
    "    middle = []\n",
    "    for elem in s:\n",
    "        if elem < mid:\n",
    "            low.append(elem)\n",
    "        elif elem == mid:\n",
    "            middle.append(elem)\n",
    "        else:\n",
    "            high.append(elem)\n",
    "    return quick_sort(low) + middle + quick_sort(high)       "
   ]
  },
  {
   "cell_type": "markdown",
   "id": "7da10755",
   "metadata": {},
   "source": [
    "# 7.11"
   ]
  },
  {
   "cell_type": "code",
   "execution_count": 39,
   "id": "8376744c",
   "metadata": {},
   "outputs": [],
   "source": [
    "import os\n",
    "\n",
    "path = '/home/alexey_minko/my_library'\n",
    "\n",
    "def rec_all_files(path, level = 1):\n",
    "    print(f'Level = {level}, content: {os.listdir(path)}.')\n",
    "    for elem in os.listdir(path):\n",
    "        name = path + '/' + elem\n",
    "        print(name, level)\n",
    "        if os.path.isdir(name):\n",
    "            print('Down.', name)\n",
    "            rec_all_files(name, level + 1)\n",
    "            print('Up', path)\n",
    "            \n",
    "def find_files(path, text):\n",
    "    for elem in os.listdir(path):\n",
    "        name = path + '/' + elem\n",
    "\n",
    "        if text in elem:\n",
    "            print(name)\n",
    "        elif os.path.isdir(name):\n",
    "            find_files(name)"
   ]
  },
  {
   "cell_type": "markdown",
   "id": "927eb5f9",
   "metadata": {},
   "source": [
    "# 7.12"
   ]
  },
  {
   "cell_type": "code",
   "execution_count": 34,
   "id": "a3dc37a6",
   "metadata": {},
   "outputs": [],
   "source": [
    "#\n",
    "\n",
    "adding_10 = lambda x: x + 10"
   ]
  },
  {
   "cell_type": "code",
   "execution_count": 36,
   "id": "40819dc6",
   "metadata": {},
   "outputs": [],
   "source": [
    "#\n",
    "\n",
    "starts_with = lambda string: string[0] == 'W'"
   ]
  },
  {
   "cell_type": "markdown",
   "id": "f17a3421",
   "metadata": {},
   "source": [
    "# 7.13"
   ]
  },
  {
   "cell_type": "markdown",
   "id": "fb70f6aa",
   "metadata": {},
   "source": [
    "# 7.14"
   ]
  },
  {
   "cell_type": "code",
   "execution_count": 44,
   "id": "92b39b41",
   "metadata": {},
   "outputs": [],
   "source": [
    "#\n",
    "\n",
    "def multiply(n):\n",
    "    def inner(x):\n",
    "        return n * x\n",
    "    return inner"
   ]
  },
  {
   "cell_type": "markdown",
   "id": "bd968e16",
   "metadata": {},
   "source": [
    "# 7.15"
   ]
  },
  {
   "cell_type": "code",
   "execution_count": 56,
   "id": "f9ac76eb",
   "metadata": {},
   "outputs": [],
   "source": [
    "#\n",
    "\n",
    "from datetime import datetime\n",
    "from time import perf_counter\n",
    "\n",
    "def timer_1():\n",
    "    start = datetime.now()\n",
    "    def inner():\n",
    "        return datetime.now() - start\n",
    "    return inner\n",
    "\n",
    "def timer_2():\n",
    "    start = perf_counter()\n",
    "    def inner():\n",
    "        return perf_counter() - start\n",
    "    return inner"
   ]
  },
  {
   "cell_type": "markdown",
   "id": "cd4abb25",
   "metadata": {},
   "source": [
    "# 7.16"
   ]
  },
  {
   "cell_type": "code",
   "execution_count": 8,
   "id": "70925982",
   "metadata": {},
   "outputs": [],
   "source": [
    "#\n",
    "\n",
    "def say(name, surname, age):\n",
    "    print('hello', name, surname, age)\n",
    "\n",
    "def decorator(func):\n",
    "    def inner(*args, **kwargs):\n",
    "        print('start decorator...')\n",
    "        func(*args, **kwargs)\n",
    "        print('finish decorator...')\n",
    "    return inner"
   ]
  },
  {
   "cell_type": "code",
   "execution_count": 20,
   "id": "cd0a73e1",
   "metadata": {},
   "outputs": [],
   "source": [
    "#\n",
    "\n",
    "def header(func):\n",
    "    def inner(*args, **kwargs):\n",
    "        print('<h1>')\n",
    "        func(*args, **kwargs)\n",
    "        print('</h1>')\n",
    "    return inner\n",
    "\n",
    "def table(func):\n",
    "    def inner(*args, **kwargs):\n",
    "        print('<table>')\n",
    "        func(*args, **kwargs)\n",
    "        print('</table>')\n",
    "    return inner\n",
    "\n",
    "@table\n",
    "@header\n",
    "@table\n",
    "def say(name, surname, age):\n",
    "    print('hello', name, surname, age)"
   ]
  },
  {
   "cell_type": "markdown",
   "id": "8bcbfe99",
   "metadata": {},
   "source": [
    "# 7.17"
   ]
  }
 ],
 "metadata": {
  "kernelspec": {
   "display_name": "Python 3 (ipykernel)",
   "language": "python",
   "name": "python3"
  },
  "language_info": {
   "codemirror_mode": {
    "name": "ipython",
    "version": 3
   },
   "file_extension": ".py",
   "mimetype": "text/x-python",
   "name": "python",
   "nbconvert_exporter": "python",
   "pygments_lexer": "ipython3",
   "version": "3.9.7"
  }
 },
 "nbformat": 4,
 "nbformat_minor": 5
}
