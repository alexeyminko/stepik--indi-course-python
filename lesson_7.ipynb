{
 "cells": [
  {
   "cell_type": "markdown",
   "id": "48e59cae",
   "metadata": {},
   "source": [
    "# 7.1"
   ]
  },
  {
   "cell_type": "code",
   "execution_count": 1,
   "id": "277a966b",
   "metadata": {},
   "outputs": [],
   "source": [
    "#\n",
    "\n",
    "def keanu_reeves():\n",
    "    print(\"YOU'RE BREATHTAKING\")"
   ]
  },
  {
   "cell_type": "code",
   "execution_count": 5,
   "id": "24935920",
   "metadata": {},
   "outputs": [],
   "source": [
    "#\n",
    "\n",
    "def summa_n(t):\n",
    "    total = 0\n",
    "    for i in range(1, t + 1):\n",
    "        total += i\n",
    "    print(f'Я знаю, что сумма чисел от 1 до {t} равна {total}')"
   ]
  },
  {
   "cell_type": "code",
   "execution_count": 22,
   "id": "2d2cb6fa",
   "metadata": {},
   "outputs": [],
   "source": [
    "#\n",
    "\n",
    "def check_password(password):\n",
    "    count = 0\n",
    "    if len([s for s in password if s.isdigit()]) > 2:\n",
    "        count += 1\n",
    "    if len([s for s in password if s.isupper()]) > 0:\n",
    "        count += 1\n",
    "    if len([s for s in password if s in '!@#$%*']) > 0:\n",
    "        count += 1\n",
    "    if len(password) > 9:\n",
    "        count += 1\n",
    "    print('Perfect password' if count == 4 else 'Easy peasy')  "
   ]
  },
  {
   "cell_type": "code",
   "execution_count": 24,
   "id": "1613b8a9",
   "metadata": {},
   "outputs": [],
   "source": [
    "# \n",
    "\n",
    "def count_letters(string):\n",
    "    res_up = len([s for s in string if s.isupper()])\n",
    "    res_lo = len([s for s in string if s.islower()])\n",
    "    print(f'Количество заглавных символов: {res_up}')\n",
    "    print(f'Количество строчных символов: {res_lo}')   "
   ]
  },
  {
   "cell_type": "markdown",
   "id": "6dcbf030",
   "metadata": {},
   "source": [
    "# 7.2"
   ]
  },
  {
   "cell_type": "code",
   "execution_count": 232,
   "id": "511a3fd6",
   "metadata": {},
   "outputs": [],
   "source": [
    "#\n",
    "\n",
    "import turtle\n",
    "\n",
    "turtle.speed(5)\n",
    "\n",
    "def move_turtle(a, b):\n",
    "    turtle.forward(a)\n",
    "    turtle.left(90)\n",
    "    turtle.forward(b)\n",
    "    turtle.left(90)\n",
    "    \n",
    "def draw_rectangle(a, b):\n",
    "    for i in range(2):\n",
    "        move_turtle(a, b)\n",
    "        \n",
    "def draw_rectangle_color(a, b, color):\n",
    "    turtle.color(color)\n",
    "    turtle.begin_fill()\n",
    "    draw_rectangle(a, b)\n",
    "    turtle.end_fill()\n",
    "    \n",
    "draw_rectangle_color(400, 100, 'blue')\n",
    "turtle.goto(0, 100)\n",
    "draw_rectangle_color(400, 100, 'yellow')\n",
    "turtle.goto(400, 200)\n",
    "draw_rectangle_color(400, 100, 'floralwhite')\n",
    "turtle.goto(400, 300)\n",
    "draw_rectangle_color(400, 100, 'red')\n",
    "turtle.goto(400, 400)\n",
    "draw_rectangle_color(400, 100, 'floralwhite')\n"
   ]
  },
  {
   "cell_type": "code",
   "execution_count": 112,
   "id": "e17c1f3d",
   "metadata": {},
   "outputs": [],
   "source": [
    "#\n",
    "\n",
    "def repeat_please_n_times(n):\n",
    "    for i in range(n):\n",
    "        print('Just do it')   "
   ]
  },
  {
   "cell_type": "code",
   "execution_count": 98,
   "id": "f0cd56ef",
   "metadata": {},
   "outputs": [],
   "source": [
    "#\n",
    "\n",
    "def print_initials(name, surname, middlename):\n",
    "    name, surname, middlename = name.title(), surname.title(), middlename.title()\n",
    "    print(f'{surname} {name[0]}.{middlename[0]}.')"
   ]
  },
  {
   "cell_type": "markdown",
   "id": "51a43fe5",
   "metadata": {},
   "source": [
    "# 7.3"
   ]
  },
  {
   "cell_type": "code",
   "execution_count": 138,
   "id": "e3cbeffd",
   "metadata": {},
   "outputs": [],
   "source": [
    "#\n",
    "\n",
    "def factorial(n):\n",
    "    res = 1\n",
    "    for i in range(2, n + 1):\n",
    "        res *= i\n",
    "    return res"
   ]
  },
  {
   "cell_type": "code",
   "execution_count": 142,
   "id": "b702d5a3",
   "metadata": {},
   "outputs": [
    {
     "name": "stdout",
     "output_type": "stream",
     "text": [
      "4\n",
      "24\n",
      "60\n",
      "48\n",
      "12\n",
      "12\n"
     ]
    }
   ],
   "source": [
    "# Снова НОД\n",
    "\n",
    "def gcd(a, b):\n",
    "    while b > 0:\n",
    "        a, b = b, a%b\n",
    "    return a\n",
    "n = int(input())\n",
    "res = []\n",
    "a, b = int(input()), int(input())\n",
    "for i in range(n - 2):\n",
    "    a = gcd(a, b)\n",
    "    b = int(input())\n",
    "print(a)"
   ]
  },
  {
   "cell_type": "code",
   "execution_count": 143,
   "id": "2185e164",
   "metadata": {},
   "outputs": [],
   "source": [
    "#\n",
    "\n",
    "def find_duplicate(num_list):\n",
    "    num_list = [i for i in num_list if num_list.count(i) > 1]\n",
    "    res = []\n",
    "    for i in num_list:\n",
    "        if i not in res:\n",
    "            res.append(i)\n",
    "    return res    "
   ]
  },
  {
   "cell_type": "code",
   "execution_count": 146,
   "id": "8a3ff754",
   "metadata": {},
   "outputs": [],
   "source": [
    "#\n",
    "\n",
    "def first_unique_char(string):\n",
    "    for s in string:\n",
    "        if string.count(s) == 1:\n",
    "            return string.find(s)\n",
    "    return -1"
   ]
  },
  {
   "cell_type": "code",
   "execution_count": 186,
   "id": "6989cb30",
   "metadata": {},
   "outputs": [],
   "source": [
    "#\n",
    "\n",
    "def format_namelist(l_dict):\n",
    "    n = len(l_dict)\n",
    "    string = ''\n",
    "    if n == 1:\n",
    "        string += l_dict[0]['name']\n",
    "    elif n > 1:\n",
    "        for i in range(n - 2):\n",
    "            string += l_dict[i]['name'] + ', '\n",
    "        string += l_dict[-2]['name'] + ' и ' + l_dict[-1]['name']\n",
    "    return string   "
   ]
  },
  {
   "cell_type": "code",
   "execution_count": 198,
   "id": "ddac46f0",
   "metadata": {},
   "outputs": [],
   "source": [
    "#\n",
    "\n",
    "def domain_name(url):\n",
    "    url = url.strip('https//:.www').split('.')[0]\n",
    "    return url"
   ]
  },
  {
   "cell_type": "code",
   "execution_count": 225,
   "id": "225d1282",
   "metadata": {},
   "outputs": [],
   "source": [
    "# Сколько нулей на конце факториала N!\n",
    "\n",
    "def factorial(n: int) -> int:\n",
    "    \"\"\"My function\"\"\"\n",
    "    res = 1\n",
    "    for i in range(2, n + 1):\n",
    "        res *= i\n",
    "    return res\n",
    "\n",
    "def trailing_zeros(n):\n",
    "    num = str(factorial(n))\n",
    "    a, num = len(num), num.rstrip('0')\n",
    "    b = len(num)\n",
    "    return a - b"
   ]
  },
  {
   "cell_type": "markdown",
   "id": "a2bd2bf5",
   "metadata": {},
   "source": [
    "# 7.4"
   ]
  },
  {
   "cell_type": "markdown",
   "id": "e0e4fd85",
   "metadata": {},
   "source": [
    "# 7.5"
   ]
  },
  {
   "cell_type": "markdown",
   "id": "3b3e54d4",
   "metadata": {},
   "source": [
    "# 7.6"
   ]
  },
  {
   "cell_type": "code",
   "execution_count": 228,
   "id": "62cf43e3",
   "metadata": {},
   "outputs": [],
   "source": [
    "#\n",
    "\n",
    "MIN_DRIVING_AGE = 18\n",
    "def allowed_driving(name, age):\n",
    "    print(f'{name} еще рано садиться за руль' if age < MIN_DRIVING_AGE else f'{name} может водить')"
   ]
  }
 ],
 "metadata": {
  "kernelspec": {
   "display_name": "Python 3 (ipykernel)",
   "language": "python",
   "name": "python3"
  },
  "language_info": {
   "codemirror_mode": {
    "name": "ipython",
    "version": 3
   },
   "file_extension": ".py",
   "mimetype": "text/x-python",
   "name": "python",
   "nbconvert_exporter": "python",
   "pygments_lexer": "ipython3",
   "version": "3.9.7"
  }
 },
 "nbformat": 4,
 "nbformat_minor": 5
}
