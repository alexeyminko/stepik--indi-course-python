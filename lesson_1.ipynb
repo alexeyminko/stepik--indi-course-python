{
 "cells": [
  {
   "cell_type": "code",
   "execution_count": 8,
   "id": "07a02b79",
   "metadata": {},
   "outputs": [
    {
     "name": "stdout",
     "output_type": "stream",
     "text": [
      "6\n",
      "1 4 1\n"
     ]
    }
   ],
   "source": [
    "# Журавлики\n",
    "\n",
    "num = int(input())\n",
    "for p in range(1, num // 6 + 1):\n",
    "    if 6 * p == num:\n",
    "        print(p, 4 * p, p)"
   ]
  },
  {
   "cell_type": "code",
   "execution_count": 10,
   "id": "d5d5d2cf",
   "metadata": {},
   "outputs": [
    {
     "name": "stdout",
     "output_type": "stream",
     "text": [
      "1 1 1\n",
      "20\n"
     ]
    }
   ],
   "source": [
    "# Магазин канцелярских товаров\n",
    "\n",
    "pencil, pen, marker = map(int, input().split())\n",
    "print(pencil * 3 + pen * 5 + marker * 12)"
   ]
  },
  {
   "cell_type": "code",
   "execution_count": 14,
   "id": "e3f3bc7d",
   "metadata": {},
   "outputs": [
    {
     "name": "stdout",
     "output_type": "stream",
     "text": [
      "5 2 3\n",
      "60\n"
     ]
    }
   ],
   "source": [
    "# \n",
    "\n",
    "n, a, b = map(int, input().split())\n",
    "print(n * a * b * 2)"
   ]
  },
  {
   "cell_type": "code",
   "execution_count": 15,
   "id": "46667e03",
   "metadata": {},
   "outputs": [
    {
     "name": "stdout",
     "output_type": "stream",
     "text": [
      "1 2 3 4\n",
      "2.5\n"
     ]
    }
   ],
   "source": [
    "#\n",
    "\n",
    "a, b, c, d = map(int, input().split())\n",
    "print((a + b + c + d) / 4)"
   ]
  },
  {
   "cell_type": "code",
   "execution_count": 16,
   "id": "ee82d782",
   "metadata": {},
   "outputs": [
    {
     "name": "stdout",
     "output_type": "stream",
     "text": [
      "1\n",
      "1\n",
      "1\n",
      "2\n",
      "2\n",
      "2\n",
      "3661\n"
     ]
    }
   ],
   "source": [
    "# Разность времен\n",
    "\n",
    "time_1 = int(input()) * 3600 + int(input()) * 60 + int(input())\n",
    "time_2 = int(input()) * 3600 + int(input()) * 60 + int(input())\n",
    "print(time_2 - time_1)"
   ]
  },
  {
   "cell_type": "code",
   "execution_count": 18,
   "id": "9a96d53b",
   "metadata": {},
   "outputs": [
    {
     "name": "stdout",
     "output_type": "stream",
     "text": [
      "4 7\n",
      "6 3\n"
     ]
    }
   ],
   "source": [
    "# Два бандита\n",
    "\n",
    "harry, larry = map(int, input().split())\n",
    "total = harry + larry - 1\n",
    "print(total - harry, total - larry)"
   ]
  },
  {
   "cell_type": "code",
   "execution_count": 19,
   "id": "408c89af",
   "metadata": {},
   "outputs": [
    {
     "name": "stdout",
     "output_type": "stream",
     "text": [
      "-5\n",
      "9\n",
      "14\n"
     ]
    }
   ],
   "source": [
    "# \n",
    "\n",
    "print(abs(int(input())) + abs(int(input())))"
   ]
  },
  {
   "cell_type": "code",
   "execution_count": null,
   "id": "89e3b4ed",
   "metadata": {},
   "outputs": [],
   "source": [
    "#\n",
    "\n",
    "a, b = map(float, input().split())\n",
    "print(abs(b - a))"
   ]
  },
  {
   "cell_type": "code",
   "execution_count": 20,
   "id": "5ac9c2c8",
   "metadata": {},
   "outputs": [
    {
     "name": "stdout",
     "output_type": "stream",
     "text": [
      "1 2 3 4 5\n",
      "5\n"
     ]
    }
   ],
   "source": [
    "#\n",
    "\n",
    "print(max([int(i) for i in input().split()]))"
   ]
  },
  {
   "cell_type": "code",
   "execution_count": 21,
   "id": "4c7ba933",
   "metadata": {},
   "outputs": [
    {
     "name": "stdout",
     "output_type": "stream",
     "text": [
      "2\n",
      "10\n",
      "3\n",
      "60\n"
     ]
    }
   ],
   "source": [
    "# Выражение\n",
    "\n",
    "a, b, c = int(input()), int(input()), int(input())\n",
    "num_list = [a + b + c, a * b * c, a * b + c, a + b * c, a * (b + c), (a + b) * c]\n",
    "print(max(num_list))\n",
    "                        "
   ]
  },
  {
   "cell_type": "code",
   "execution_count": 22,
   "id": "8e46ffbf",
   "metadata": {},
   "outputs": [
    {
     "name": "stdout",
     "output_type": "stream",
     "text": [
      "0.123456789\n",
      "0.12 0.123\n"
     ]
    }
   ],
   "source": [
    "#\n",
    "\n",
    "num = float(input())\n",
    "print(round(num, 2), round(num, 3))"
   ]
  },
  {
   "cell_type": "code",
   "execution_count": 2,
   "id": "c0092cf7",
   "metadata": {},
   "outputs": [
    {
     "name": "stdout",
     "output_type": "stream",
     "text": [
      "1 2 3\n",
      "1,2,3\n"
     ]
    }
   ],
   "source": [
    "#\n",
    "\n",
    "a, b, c = map(int, input().split())\n",
    "print(a, b, c, sep=',')"
   ]
  },
  {
   "cell_type": "code",
   "execution_count": 3,
   "id": "40f68321",
   "metadata": {},
   "outputs": [
    {
     "name": "stdout",
     "output_type": "stream",
     "text": [
      "15\n",
      "14<15<16\n"
     ]
    }
   ],
   "source": [
    "#\n",
    "\n",
    "num = int(input())\n",
    "print(num - 1, num, num + 1, sep='<')"
   ]
  },
  {
   "cell_type": "code",
   "execution_count": null,
   "id": "c07d02fc",
   "metadata": {},
   "outputs": [],
   "source": [
    "#\n",
    "\n",
    "text1, text2, text3 = input(), input(), input()\n",
    "print(text1, text2, text3, sep='---')"
   ]
  },
  {
   "cell_type": "code",
   "execution_count": 5,
   "id": "921c40ca",
   "metadata": {},
   "outputs": [
    {
     "name": "stdout",
     "output_type": "stream",
     "text": [
      "!\n",
      "1!2!3!4!5\n"
     ]
    }
   ],
   "source": [
    "#\n",
    "\n",
    "sprtd = input()\n",
    "print(1, 2, 3, 4, 5, sep=sprtd)"
   ]
  },
  {
   "cell_type": "code",
   "execution_count": 6,
   "id": "7d3e7718",
   "metadata": {},
   "outputs": [
    {
     "name": "stdout",
     "output_type": "stream",
     "text": [
      "3564\n",
      "3\n"
     ]
    }
   ],
   "source": [
    "#\n",
    "\n",
    "gram = int(input())\n",
    "print(gram // 1000)"
   ]
  },
  {
   "cell_type": "code",
   "execution_count": 7,
   "id": "42854e84",
   "metadata": {},
   "outputs": [
    {
     "name": "stdout",
     "output_type": "stream",
     "text": [
      "5\n",
      "11\n",
      "2\n"
     ]
    }
   ],
   "source": [
    "# Дележ яблок - 1\n",
    "\n",
    "n, k = int(input()), int(input())\n",
    "print(k // n)"
   ]
  },
  {
   "cell_type": "code",
   "execution_count": 8,
   "id": "d9470f4a",
   "metadata": {},
   "outputs": [
    {
     "name": "stdout",
     "output_type": "stream",
     "text": [
      "150\n",
      "50\n",
      "3\n"
     ]
    }
   ],
   "source": [
    "#\n",
    "\n",
    "n, r = int(input()), int(input())\n",
    "print(n // r)"
   ]
  },
  {
   "cell_type": "code",
   "execution_count": 9,
   "id": "a3f35d13",
   "metadata": {},
   "outputs": [
    {
     "name": "stdout",
     "output_type": "stream",
     "text": [
      "123\n",
      "3\n"
     ]
    }
   ],
   "source": [
    "#\n",
    "\n",
    "num = int(input())\n",
    "print(num % 10)"
   ]
  },
  {
   "cell_type": "code",
   "execution_count": 11,
   "id": "b7489e73",
   "metadata": {},
   "outputs": [
    {
     "name": "stdout",
     "output_type": "stream",
     "text": [
      "123456\n",
      "4\n"
     ]
    }
   ],
   "source": [
    "#\n",
    "\n",
    "num = int(input())\n",
    "print(num // 100 % 10)"
   ]
  },
  {
   "cell_type": "code",
   "execution_count": 12,
   "id": "ccee04ac",
   "metadata": {},
   "outputs": [
    {
     "name": "stdout",
     "output_type": "stream",
     "text": [
      "109\n",
      "10\n"
     ]
    }
   ],
   "source": [
    "#\n",
    "\n",
    "num = int(input())\n",
    "print(num // 100 + num // 10 % 10 + num % 10)"
   ]
  },
  {
   "cell_type": "code",
   "execution_count": 14,
   "id": "f4d587b6",
   "metadata": {},
   "outputs": [
    {
     "name": "stdout",
     "output_type": "stream",
     "text": [
      "125\n",
      "3\n"
     ]
    }
   ],
   "source": [
    "# Выиграть в лотерею\n",
    "\n",
    "num = int(input())\n",
    "count = num // 100 + num % 100 // 20 + num % 20 // 10 + num % 10 // 5 + num % 5\n",
    "print(count)   "
   ]
  },
  {
   "cell_type": "code",
   "execution_count": 18,
   "id": "23ea982c",
   "metadata": {},
   "outputs": [
    {
     "name": "stdout",
     "output_type": "stream",
     "text": [
      "2879\n",
      "23 59\n"
     ]
    }
   ],
   "source": [
    "# Электронные часы - 1\n",
    "\n",
    "minutes = int(input())\n",
    "minutes = minutes % 1440\n",
    "print(minutes // 60, minutes % 60)"
   ]
  },
  {
   "cell_type": "code",
   "execution_count": 21,
   "id": "2f1356fd",
   "metadata": {},
   "outputs": [
    {
     "name": "stdout",
     "output_type": "stream",
     "text": [
      "4\n",
      "6\n"
     ]
    }
   ],
   "source": [
    "# Следующее четное\n",
    "\n",
    "num = int(input())\n",
    "num = num // 2 * 2 + 2\n",
    "print(num)"
   ]
  },
  {
   "cell_type": "code",
   "execution_count": 32,
   "id": "5579b5bd",
   "metadata": {},
   "outputs": [
    {
     "name": "stdout",
     "output_type": "stream",
     "text": [
      "3721\n",
      "01:02:01\n"
     ]
    }
   ],
   "source": [
    "# Электронные часы - 2\n",
    "\n",
    "seconds = int(input())\n",
    "seconds %= 24 * 60 * 60\n",
    "hours = str(seconds // (60 * 60))\n",
    "minutes = str(seconds % (60 * 60) // 60)\n",
    "seconds_res = str(seconds % 60)\n",
    "print(hours + ':' + '0' * (2 - len(minutes)) + minutes + ':' + '0' * (2 - len(seconds_res)) + seconds_res)"
   ]
  },
  {
   "cell_type": "code",
   "execution_count": 33,
   "id": "3fa70c91",
   "metadata": {},
   "outputs": [
    {
     "name": "stdout",
     "output_type": "stream",
     "text": [
      "12\n",
      "True\n"
     ]
    }
   ],
   "source": [
    "#\n",
    "\n",
    "print(int(input()) > 0)"
   ]
  },
  {
   "cell_type": "code",
   "execution_count": 35,
   "id": "b2ca5960",
   "metadata": {},
   "outputs": [
    {
     "name": "stdout",
     "output_type": "stream",
     "text": [
      "12\n",
      "True\n"
     ]
    }
   ],
   "source": [
    "#\n",
    "\n",
    "print(int(input()) % 2 == 0)"
   ]
  },
  {
   "cell_type": "code",
   "execution_count": null,
   "id": "6c4d2240",
   "metadata": {},
   "outputs": [],
   "source": [
    "#\n",
    "\n",
    "print(int(input()) % 6 == 0)"
   ]
  },
  {
   "cell_type": "code",
   "execution_count": 36,
   "id": "6d6458fd",
   "metadata": {},
   "outputs": [
    {
     "name": "stdout",
     "output_type": "stream",
     "text": [
      "45\n",
      "False\n"
     ]
    }
   ],
   "source": [
    "#\n",
    "\n",
    "print(int(input()) % 9 != 0)"
   ]
  },
  {
   "cell_type": "code",
   "execution_count": 37,
   "id": "ff6068fe",
   "metadata": {},
   "outputs": [
    {
     "name": "stdout",
     "output_type": "stream",
     "text": [
      "12\n",
      "True\n"
     ]
    }
   ],
   "source": [
    "#\n",
    "\n",
    "print(int(input()) % 10 == 2)"
   ]
  },
  {
   "cell_type": "code",
   "execution_count": 39,
   "id": "df78402e",
   "metadata": {},
   "outputs": [
    {
     "name": "stdout",
     "output_type": "stream",
     "text": [
      "3 21\n",
      "False\n"
     ]
    }
   ],
   "source": [
    "#\n",
    "\n",
    "a, b = map(int, input().split())\n",
    "print(a % 7 == 0 and b % 7 == 0)"
   ]
  },
  {
   "cell_type": "code",
   "execution_count": 42,
   "id": "2e74bc49",
   "metadata": {},
   "outputs": [
    {
     "name": "stdout",
     "output_type": "stream",
     "text": [
      "4 5 6\n",
      "False\n"
     ]
    }
   ],
   "source": [
    "#\n",
    "\n",
    "a, b, c = map(int, input().split())\n",
    "print(a == b and a == c)"
   ]
  },
  {
   "cell_type": "code",
   "execution_count": 43,
   "id": "35233f4d",
   "metadata": {},
   "outputs": [
    {
     "name": "stdout",
     "output_type": "stream",
     "text": [
      "10\n",
      "True\n"
     ]
    }
   ],
   "source": [
    "#\n",
    "\n",
    "print(5 < int(input()) <= 19)"
   ]
  },
  {
   "cell_type": "code",
   "execution_count": null,
   "id": "82815fc0",
   "metadata": {},
   "outputs": [],
   "source": [
    "#\n",
    "\n",
    "word1, word2 = input(), input()\n",
    "print(word1 == 'awesome' or word2 == 'awesome')"
   ]
  },
  {
   "cell_type": "code",
   "execution_count": null,
   "id": "654f4d04",
   "metadata": {},
   "outputs": [],
   "source": [
    "#\n",
    "\n",
    "a, b, c = map(int, input().split())\n",
    "print(a == b or a == c or b == c)"
   ]
  },
  {
   "cell_type": "code",
   "execution_count": 45,
   "id": "b063ba3f",
   "metadata": {},
   "outputs": [
    {
     "name": "stdout",
     "output_type": "stream",
     "text": [
      "123\n",
      "False\n"
     ]
    }
   ],
   "source": [
    "#\n",
    "\n",
    "print(9 < int(input()) < 100)"
   ]
  },
  {
   "cell_type": "code",
   "execution_count": 47,
   "id": "c9465b14",
   "metadata": {},
   "outputs": [
    {
     "name": "stdout",
     "output_type": "stream",
     "text": [
      "3 4 5\n",
      "True\n"
     ]
    }
   ],
   "source": [
    "#\n",
    "\n",
    "a = sorted(map(int, input().split()))\n",
    "print(a[0]**2 + a[1]**2 == a[2]**2)"
   ]
  },
  {
   "cell_type": "code",
   "execution_count": 66,
   "id": "32b552ce",
   "metadata": {},
   "outputs": [
    {
     "name": "stdout",
     "output_type": "stream",
     "text": [
      "203\n",
      "21\n"
     ]
    }
   ],
   "source": [
    "# Перевязь\n",
    "\n",
    "from math import ceil\n",
    "print(ceil(int(input()) / 10))"
   ]
  },
  {
   "cell_type": "code",
   "execution_count": 65,
   "id": "c8c00ede",
   "metadata": {},
   "outputs": [
    {
     "name": "stdout",
     "output_type": "stream",
     "text": [
      "9\n",
      "3\n"
     ]
    }
   ],
   "source": [
    "#\n",
    "\n",
    "from math import ceil\n",
    "print(ceil(int(input()) / 4))"
   ]
  },
  {
   "cell_type": "code",
   "execution_count": 63,
   "id": "6c2ed6b3",
   "metadata": {},
   "outputs": [
    {
     "name": "stdout",
     "output_type": "stream",
     "text": [
      "5\n",
      "6\n",
      "7\n",
      "10\n"
     ]
    }
   ],
   "source": [
    "# Парты\n",
    "\n",
    "from math import ceil\n",
    "print(sum([ceil(int(input()) / 2) for i in range(3)]))"
   ]
  },
  {
   "cell_type": "code",
   "execution_count": null,
   "id": "ad6b9e1b",
   "metadata": {},
   "outputs": [],
   "source": [
    "# Ремонт\n",
    "\n",
    "from math import ceil\n",
    "l, w, h = map(int, input().split())\n",
    "print(ceil((l * h * 2 + w * h * 2) / 16))"
   ]
  }
 ],
 "metadata": {
  "kernelspec": {
   "display_name": "Python 3 (ipykernel)",
   "language": "python",
   "name": "python3"
  },
  "language_info": {
   "codemirror_mode": {
    "name": "ipython",
    "version": 3
   },
   "file_extension": ".py",
   "mimetype": "text/x-python",
   "name": "python",
   "nbconvert_exporter": "python",
   "pygments_lexer": "ipython3",
   "version": "3.9.7"
  }
 },
 "nbformat": 4,
 "nbformat_minor": 5
}
