{
 "cells": [
  {
   "cell_type": "code",
   "execution_count": 8,
   "id": "07a02b79",
   "metadata": {},
   "outputs": [
    {
     "name": "stdout",
     "output_type": "stream",
     "text": [
      "6\n",
      "1 4 1\n"
     ]
    }
   ],
   "source": [
    "# Журавлики\n",
    "\n",
    "num = int(input())\n",
    "for p in range(1, num // 6 + 1):\n",
    "    if 6 * p == num:\n",
    "        print(p, 4 * p, p)"
   ]
  },
  {
   "cell_type": "code",
   "execution_count": 10,
   "id": "d5d5d2cf",
   "metadata": {},
   "outputs": [
    {
     "name": "stdout",
     "output_type": "stream",
     "text": [
      "1 1 1\n",
      "20\n"
     ]
    }
   ],
   "source": [
    "# Магазин канцелярских товаров\n",
    "\n",
    "pencil, pen, marker = map(int, input().split())\n",
    "print(pencil * 3 + pen * 5 + marker * 12)"
   ]
  },
  {
   "cell_type": "code",
   "execution_count": 14,
   "id": "e3f3bc7d",
   "metadata": {},
   "outputs": [
    {
     "name": "stdout",
     "output_type": "stream",
     "text": [
      "5 2 3\n",
      "60\n"
     ]
    }
   ],
   "source": [
    "# \n",
    "\n",
    "n, a, b = map(int, input().split())\n",
    "print(n * a * b * 2)"
   ]
  },
  {
   "cell_type": "code",
   "execution_count": 15,
   "id": "46667e03",
   "metadata": {},
   "outputs": [
    {
     "name": "stdout",
     "output_type": "stream",
     "text": [
      "1 2 3 4\n",
      "2.5\n"
     ]
    }
   ],
   "source": [
    "#\n",
    "\n",
    "a, b, c, d = map(int, input().split())\n",
    "print((a + b + c + d) / 4)"
   ]
  },
  {
   "cell_type": "code",
   "execution_count": 16,
   "id": "ee82d782",
   "metadata": {},
   "outputs": [
    {
     "name": "stdout",
     "output_type": "stream",
     "text": [
      "1\n",
      "1\n",
      "1\n",
      "2\n",
      "2\n",
      "2\n",
      "3661\n"
     ]
    }
   ],
   "source": [
    "# Разность времен\n",
    "\n",
    "time_1 = int(input()) * 3600 + int(input()) * 60 + int(input())\n",
    "time_2 = int(input()) * 3600 + int(input()) * 60 + int(input())\n",
    "print(time_2 - time_1)"
   ]
  },
  {
   "cell_type": "code",
   "execution_count": 18,
   "id": "9a96d53b",
   "metadata": {},
   "outputs": [
    {
     "name": "stdout",
     "output_type": "stream",
     "text": [
      "4 7\n",
      "6 3\n"
     ]
    }
   ],
   "source": [
    "# Два бандита\n",
    "\n",
    "harry, larry = map(int, input().split())\n",
    "total = harry + larry - 1\n",
    "print(total - harry, total - larry)"
   ]
  },
  {
   "cell_type": "code",
   "execution_count": 19,
   "id": "408c89af",
   "metadata": {},
   "outputs": [
    {
     "name": "stdout",
     "output_type": "stream",
     "text": [
      "-5\n",
      "9\n",
      "14\n"
     ]
    }
   ],
   "source": [
    "# \n",
    "\n",
    "print(abs(int(input())) + abs(int(input())))"
   ]
  },
  {
   "cell_type": "code",
   "execution_count": null,
   "id": "89e3b4ed",
   "metadata": {},
   "outputs": [],
   "source": [
    "#\n",
    "\n",
    "a, b = map(float, input().split())\n",
    "print(abs(b - a))"
   ]
  },
  {
   "cell_type": "code",
   "execution_count": 20,
   "id": "5ac9c2c8",
   "metadata": {},
   "outputs": [
    {
     "name": "stdout",
     "output_type": "stream",
     "text": [
      "1 2 3 4 5\n",
      "5\n"
     ]
    }
   ],
   "source": [
    "#\n",
    "\n",
    "print(max([int(i) for i in input().split()]))"
   ]
  },
  {
   "cell_type": "code",
   "execution_count": 21,
   "id": "4c7ba933",
   "metadata": {},
   "outputs": [
    {
     "name": "stdout",
     "output_type": "stream",
     "text": [
      "2\n",
      "10\n",
      "3\n",
      "60\n"
     ]
    }
   ],
   "source": [
    "# Выражение\n",
    "\n",
    "a, b, c = int(input()), int(input()), int(input())\n",
    "num_list = [a + b + c, a * b * c, a * b + c, a + b * c, a * (b + c), (a + b) * c]\n",
    "print(max(num_list))\n",
    "                        "
   ]
  },
  {
   "cell_type": "code",
   "execution_count": 22,
   "id": "8e46ffbf",
   "metadata": {},
   "outputs": [
    {
     "name": "stdout",
     "output_type": "stream",
     "text": [
      "0.123456789\n",
      "0.12 0.123\n"
     ]
    }
   ],
   "source": [
    "#\n",
    "\n",
    "num = float(input())\n",
    "print(round(num, 2), round(num, 3))"
   ]
  },
  {
   "cell_type": "code",
   "execution_count": null,
   "id": "c0092cf7",
   "metadata": {},
   "outputs": [],
   "source": []
  }
 ],
 "metadata": {
  "kernelspec": {
   "display_name": "Python 3 (ipykernel)",
   "language": "python",
   "name": "python3"
  },
  "language_info": {
   "codemirror_mode": {
    "name": "ipython",
    "version": 3
   },
   "file_extension": ".py",
   "mimetype": "text/x-python",
   "name": "python",
   "nbconvert_exporter": "python",
   "pygments_lexer": "ipython3",
   "version": "3.9.7"
  }
 },
 "nbformat": 4,
 "nbformat_minor": 5
}
